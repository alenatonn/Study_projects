{
 "cells": [
  {
   "cell_type": "markdown",
   "metadata": {},
   "source": [
    "# Принятие решений в бизнесе"
   ]
  },
  {
   "cell_type": "markdown",
   "metadata": {},
   "source": [
    "**Цель проекта**\n",
    "\n",
    "Выполнить приоритизацию гипотез, запустить A/B-тест и проанализировать результаты.\n",
    "\n",
    "**Описание данных**\n",
    "\n",
    "Данные для первой части:\n",
    "\n",
    "Файл /datasets/hypothesis.csv\n",
    "\n",
    "- `Hypothesis` — краткое описание гипотезы;\n",
    "- `Reach` — охват пользователей по 10-балльной шкале;\n",
    "- `Impact` — влияние на пользователей по 10-балльной шкале;\n",
    "- `Confidence` — уверенность в гипотезе по 10-балльной шкале;\n",
    "- `Efforts` — затраты ресурсов на проверку гипотезы по 10-балльной шкале. Чем больше значение `Efforts`, тем дороже проверка гипотезы.\n",
    "\n",
    "Данные для второй части:\n",
    "\n",
    "Файл /datasets/orders.csv\n",
    "\n",
    "- `transactionId` — идентификатор заказа;\n",
    "- `visitorId` — идентификатор пользователя, совершившего заказ;\n",
    "- `date` — дата, когда был совершён заказ;\n",
    "- `revenue` — выручка заказа;\n",
    "- `group` — группа A/B-теста, в которую попал заказ.\n",
    "\n",
    "Файл /datasets/visitors.csv\n",
    "\n",
    "- `date` — дата;\n",
    "- `group` — группа A/B-теста;\n",
    "- `visitors` — количество пользователей в указанную дату в указанной группе A/B-теста.\n",
    "\n",
    "**Ход исследования**\n",
    "- Загружаем данные и подготовливаем их к анализу;\n",
    "- Часть 1. Приоритизация гипотез;\n",
    "- Часть 2. Анализ A/B-теста;\n",
    "- Вывод."
   ]
  },
  {
   "cell_type": "markdown",
   "metadata": {},
   "source": [
    "### Загружаем данные и подготовливаем их к анализу"
   ]
  },
  {
   "cell_type": "markdown",
   "metadata": {},
   "source": [
    "#### Загружаем данные"
   ]
  },
  {
   "cell_type": "code",
   "execution_count": 1,
   "metadata": {},
   "outputs": [],
   "source": [
    "# Импорт библиотек\n",
    "import pandas as pd\n",
    "import numpy as np\n",
    "import matplotlib.pyplot as plt\n",
    "import scipy.stats as stats\n",
    "from datetime import datetime, timedelta\n",
    "import warnings\n",
    "warnings.filterwarnings(action='ignore')\n",
    "pd.options.display.max_colwidth = 150"
   ]
  },
  {
   "cell_type": "code",
   "execution_count": 2,
   "metadata": {},
   "outputs": [],
   "source": [
    "# Чтение файла с данными и сохранение в переменные\n",
    "try:\n",
    "    data, orders, visitors = (\n",
    "        pd.read_csv('/datasets/hypothesis.csv'),\n",
    "        pd.read_csv('/datasets/orders.csv'),\n",
    "        pd.read_csv('/datasets/visitors.csv')\n",
    "    )\n",
    "except:\n",
    "    data, orders, visitors = (\n",
    "    pd.read_csv('https://code.s3.yandex.net/datasets/hypothesis.csv'),\n",
    "    pd.read_csv('https://code.s3.yandex.net/datasets/orders.csv'),\n",
    "    pd.read_csv('https://code.s3.yandex.net/datasets/visitors.csv')\n",
    "    )"
   ]
  },
  {
   "cell_type": "code",
   "execution_count": 3,
   "metadata": {},
   "outputs": [
    {
     "data": {
      "text/html": [
       "<div>\n",
       "<style scoped>\n",
       "    .dataframe tbody tr th:only-of-type {\n",
       "        vertical-align: middle;\n",
       "    }\n",
       "\n",
       "    .dataframe tbody tr th {\n",
       "        vertical-align: top;\n",
       "    }\n",
       "\n",
       "    .dataframe thead th {\n",
       "        text-align: right;\n",
       "    }\n",
       "</style>\n",
       "<table border=\"1\" class=\"dataframe\">\n",
       "  <thead>\n",
       "    <tr style=\"text-align: right;\">\n",
       "      <th></th>\n",
       "      <th>Hypothesis</th>\n",
       "      <th>Reach</th>\n",
       "      <th>Impact</th>\n",
       "      <th>Confidence</th>\n",
       "      <th>Efforts</th>\n",
       "    </tr>\n",
       "  </thead>\n",
       "  <tbody>\n",
       "    <tr>\n",
       "      <th>0</th>\n",
       "      <td>Добавить два новых канала привлечения трафика, что позволит привлекать на 30% больше пользователей</td>\n",
       "      <td>3</td>\n",
       "      <td>10</td>\n",
       "      <td>8</td>\n",
       "      <td>6</td>\n",
       "    </tr>\n",
       "    <tr>\n",
       "      <th>1</th>\n",
       "      <td>Запустить собственную службу доставки, что сократит срок доставки заказов</td>\n",
       "      <td>2</td>\n",
       "      <td>5</td>\n",
       "      <td>4</td>\n",
       "      <td>10</td>\n",
       "    </tr>\n",
       "    <tr>\n",
       "      <th>2</th>\n",
       "      <td>Добавить блоки рекомендаций товаров на сайт интернет магазина, чтобы повысить конверсию и средний чек заказа</td>\n",
       "      <td>8</td>\n",
       "      <td>3</td>\n",
       "      <td>7</td>\n",
       "      <td>3</td>\n",
       "    </tr>\n",
       "    <tr>\n",
       "      <th>3</th>\n",
       "      <td>Изменить структура категорий, что увеличит конверсию, т.к. пользователи быстрее найдут нужный товар</td>\n",
       "      <td>8</td>\n",
       "      <td>3</td>\n",
       "      <td>3</td>\n",
       "      <td>8</td>\n",
       "    </tr>\n",
       "    <tr>\n",
       "      <th>4</th>\n",
       "      <td>Изменить цвет фона главной страницы, чтобы увеличить вовлеченность пользователей</td>\n",
       "      <td>3</td>\n",
       "      <td>1</td>\n",
       "      <td>1</td>\n",
       "      <td>1</td>\n",
       "    </tr>\n",
       "  </tbody>\n",
       "</table>\n",
       "</div>"
      ],
      "text/plain": [
       "                                                                                                     Hypothesis  \\\n",
       "0            Добавить два новых канала привлечения трафика, что позволит привлекать на 30% больше пользователей   \n",
       "1                                     Запустить собственную службу доставки, что сократит срок доставки заказов   \n",
       "2  Добавить блоки рекомендаций товаров на сайт интернет магазина, чтобы повысить конверсию и средний чек заказа   \n",
       "3           Изменить структура категорий, что увеличит конверсию, т.к. пользователи быстрее найдут нужный товар   \n",
       "4                              Изменить цвет фона главной страницы, чтобы увеличить вовлеченность пользователей   \n",
       "\n",
       "   Reach  Impact  Confidence  Efforts  \n",
       "0      3      10           8        6  \n",
       "1      2       5           4       10  \n",
       "2      8       3           7        3  \n",
       "3      8       3           3        8  \n",
       "4      3       1           1        1  "
      ]
     },
     "metadata": {},
     "output_type": "display_data"
    },
    {
     "name": "stdout",
     "output_type": "stream",
     "text": [
      "<class 'pandas.core.frame.DataFrame'>\n",
      "RangeIndex: 9 entries, 0 to 8\n",
      "Data columns (total 5 columns):\n",
      " #   Column      Non-Null Count  Dtype \n",
      "---  ------      --------------  ----- \n",
      " 0   Hypothesis  9 non-null      object\n",
      " 1   Reach       9 non-null      int64 \n",
      " 2   Impact      9 non-null      int64 \n",
      " 3   Confidence  9 non-null      int64 \n",
      " 4   Efforts     9 non-null      int64 \n",
      "dtypes: int64(4), object(1)\n",
      "memory usage: 488.0+ bytes\n",
      "**************************************************\n",
      "Количество дубликатов: 0\n"
     ]
    },
    {
     "data": {
      "text/html": [
       "<div>\n",
       "<style scoped>\n",
       "    .dataframe tbody tr th:only-of-type {\n",
       "        vertical-align: middle;\n",
       "    }\n",
       "\n",
       "    .dataframe tbody tr th {\n",
       "        vertical-align: top;\n",
       "    }\n",
       "\n",
       "    .dataframe thead th {\n",
       "        text-align: right;\n",
       "    }\n",
       "</style>\n",
       "<table border=\"1\" class=\"dataframe\">\n",
       "  <thead>\n",
       "    <tr style=\"text-align: right;\">\n",
       "      <th></th>\n",
       "      <th>transactionId</th>\n",
       "      <th>visitorId</th>\n",
       "      <th>date</th>\n",
       "      <th>revenue</th>\n",
       "      <th>group</th>\n",
       "    </tr>\n",
       "  </thead>\n",
       "  <tbody>\n",
       "    <tr>\n",
       "      <th>0</th>\n",
       "      <td>3667963787</td>\n",
       "      <td>3312258926</td>\n",
       "      <td>2019-08-15</td>\n",
       "      <td>1650</td>\n",
       "      <td>B</td>\n",
       "    </tr>\n",
       "    <tr>\n",
       "      <th>1</th>\n",
       "      <td>2804400009</td>\n",
       "      <td>3642806036</td>\n",
       "      <td>2019-08-15</td>\n",
       "      <td>730</td>\n",
       "      <td>B</td>\n",
       "    </tr>\n",
       "    <tr>\n",
       "      <th>2</th>\n",
       "      <td>2961555356</td>\n",
       "      <td>4069496402</td>\n",
       "      <td>2019-08-15</td>\n",
       "      <td>400</td>\n",
       "      <td>A</td>\n",
       "    </tr>\n",
       "    <tr>\n",
       "      <th>3</th>\n",
       "      <td>3797467345</td>\n",
       "      <td>1196621759</td>\n",
       "      <td>2019-08-15</td>\n",
       "      <td>9759</td>\n",
       "      <td>B</td>\n",
       "    </tr>\n",
       "    <tr>\n",
       "      <th>4</th>\n",
       "      <td>2282983706</td>\n",
       "      <td>2322279887</td>\n",
       "      <td>2019-08-15</td>\n",
       "      <td>2308</td>\n",
       "      <td>B</td>\n",
       "    </tr>\n",
       "  </tbody>\n",
       "</table>\n",
       "</div>"
      ],
      "text/plain": [
       "   transactionId   visitorId        date  revenue group\n",
       "0     3667963787  3312258926  2019-08-15     1650     B\n",
       "1     2804400009  3642806036  2019-08-15      730     B\n",
       "2     2961555356  4069496402  2019-08-15      400     A\n",
       "3     3797467345  1196621759  2019-08-15     9759     B\n",
       "4     2282983706  2322279887  2019-08-15     2308     B"
      ]
     },
     "metadata": {},
     "output_type": "display_data"
    },
    {
     "name": "stdout",
     "output_type": "stream",
     "text": [
      "<class 'pandas.core.frame.DataFrame'>\n",
      "RangeIndex: 1197 entries, 0 to 1196\n",
      "Data columns (total 5 columns):\n",
      " #   Column         Non-Null Count  Dtype \n",
      "---  ------         --------------  ----- \n",
      " 0   transactionId  1197 non-null   int64 \n",
      " 1   visitorId      1197 non-null   int64 \n",
      " 2   date           1197 non-null   object\n",
      " 3   revenue        1197 non-null   int64 \n",
      " 4   group          1197 non-null   object\n",
      "dtypes: int64(3), object(2)\n",
      "memory usage: 46.9+ KB\n",
      "**************************************************\n",
      "Количество дубликатов: 0\n"
     ]
    },
    {
     "data": {
      "text/html": [
       "<div>\n",
       "<style scoped>\n",
       "    .dataframe tbody tr th:only-of-type {\n",
       "        vertical-align: middle;\n",
       "    }\n",
       "\n",
       "    .dataframe tbody tr th {\n",
       "        vertical-align: top;\n",
       "    }\n",
       "\n",
       "    .dataframe thead th {\n",
       "        text-align: right;\n",
       "    }\n",
       "</style>\n",
       "<table border=\"1\" class=\"dataframe\">\n",
       "  <thead>\n",
       "    <tr style=\"text-align: right;\">\n",
       "      <th></th>\n",
       "      <th>date</th>\n",
       "      <th>group</th>\n",
       "      <th>visitors</th>\n",
       "    </tr>\n",
       "  </thead>\n",
       "  <tbody>\n",
       "    <tr>\n",
       "      <th>0</th>\n",
       "      <td>2019-08-01</td>\n",
       "      <td>A</td>\n",
       "      <td>719</td>\n",
       "    </tr>\n",
       "    <tr>\n",
       "      <th>1</th>\n",
       "      <td>2019-08-02</td>\n",
       "      <td>A</td>\n",
       "      <td>619</td>\n",
       "    </tr>\n",
       "    <tr>\n",
       "      <th>2</th>\n",
       "      <td>2019-08-03</td>\n",
       "      <td>A</td>\n",
       "      <td>507</td>\n",
       "    </tr>\n",
       "    <tr>\n",
       "      <th>3</th>\n",
       "      <td>2019-08-04</td>\n",
       "      <td>A</td>\n",
       "      <td>717</td>\n",
       "    </tr>\n",
       "    <tr>\n",
       "      <th>4</th>\n",
       "      <td>2019-08-05</td>\n",
       "      <td>A</td>\n",
       "      <td>756</td>\n",
       "    </tr>\n",
       "  </tbody>\n",
       "</table>\n",
       "</div>"
      ],
      "text/plain": [
       "         date group  visitors\n",
       "0  2019-08-01     A       719\n",
       "1  2019-08-02     A       619\n",
       "2  2019-08-03     A       507\n",
       "3  2019-08-04     A       717\n",
       "4  2019-08-05     A       756"
      ]
     },
     "metadata": {},
     "output_type": "display_data"
    },
    {
     "name": "stdout",
     "output_type": "stream",
     "text": [
      "<class 'pandas.core.frame.DataFrame'>\n",
      "RangeIndex: 62 entries, 0 to 61\n",
      "Data columns (total 3 columns):\n",
      " #   Column    Non-Null Count  Dtype \n",
      "---  ------    --------------  ----- \n",
      " 0   date      62 non-null     object\n",
      " 1   group     62 non-null     object\n",
      " 2   visitors  62 non-null     int64 \n",
      "dtypes: int64(1), object(2)\n",
      "memory usage: 1.6+ KB\n",
      "**************************************************\n",
      "Количество дубликатов: 0\n"
     ]
    }
   ],
   "source": [
    "# Просмотр информации о таблицах и проверка наличия дубликатов\n",
    "for i in [data, orders, visitors]:\n",
    "    display(i.head())\n",
    "    i.info()\n",
    "    print('*'*50)\n",
    "    print(f'Количество дубликатов: {i.duplicated().sum()}')"
   ]
  },
  {
   "cell_type": "markdown",
   "metadata": {},
   "source": [
    "**Из общей информации датафреймов видны следующие проблемы:**\n",
    "- названия столбцов следует привести к единой стилистике;\n",
    "- тип данных в столбцах, которые содержат дату и время, необходимо привести к формату `datetime`."
   ]
  },
  {
   "cell_type": "markdown",
   "metadata": {},
   "source": [
    "#### Предобработка данных"
   ]
  },
  {
   "cell_type": "code",
   "execution_count": 4,
   "metadata": {},
   "outputs": [
    {
     "data": {
      "text/plain": [
       "Index(['hypothesis', 'reach', 'impact', 'confidence', 'efforts'], dtype='object')"
      ]
     },
     "metadata": {},
     "output_type": "display_data"
    },
    {
     "data": {
      "text/plain": [
       "Index(['orderId', 'userId', 'date', 'revenue', 'group'], dtype='object')"
      ]
     },
     "metadata": {},
     "output_type": "display_data"
    },
    {
     "data": {
      "text/plain": [
       "Index(['date', 'group', 'visitors'], dtype='object')"
      ]
     },
     "metadata": {},
     "output_type": "display_data"
    }
   ],
   "source": [
    "# Приведем наименования столбцов к хорошему стилю\n",
    "data.columns = [name.lower().replace(' ', '_') for name in data.columns]\n",
    "# Для удобства пользования кода из теории \n",
    "orders = orders.rename(columns={'transactionId':'orderId', 'visitorId':'userId'})\n",
    "# Проверим\n",
    "display(data.columns)\n",
    "display(orders.columns)\n",
    "display(visitors.columns)"
   ]
  },
  {
   "cell_type": "code",
   "execution_count": 5,
   "metadata": {},
   "outputs": [],
   "source": [
    "# Приведем данные о времени к формату 'datetime'\n",
    "orders['date'] = pd.to_datetime(orders['date'])\n",
    "visitors['date'] = pd.to_datetime(visitors['date'])"
   ]
  },
  {
   "cell_type": "code",
   "execution_count": 6,
   "metadata": {},
   "outputs": [
    {
     "name": "stdout",
     "output_type": "stream",
     "text": [
      "<class 'pandas.core.frame.DataFrame'>\n",
      "RangeIndex: 9 entries, 0 to 8\n",
      "Data columns (total 5 columns):\n",
      " #   Column      Non-Null Count  Dtype \n",
      "---  ------      --------------  ----- \n",
      " 0   hypothesis  9 non-null      object\n",
      " 1   reach       9 non-null      int64 \n",
      " 2   impact      9 non-null      int64 \n",
      " 3   confidence  9 non-null      int64 \n",
      " 4   efforts     9 non-null      int64 \n",
      "dtypes: int64(4), object(1)\n",
      "memory usage: 488.0+ bytes\n"
     ]
    },
    {
     "data": {
      "text/plain": [
       "None"
      ]
     },
     "metadata": {},
     "output_type": "display_data"
    },
    {
     "name": "stdout",
     "output_type": "stream",
     "text": [
      "<class 'pandas.core.frame.DataFrame'>\n",
      "RangeIndex: 1197 entries, 0 to 1196\n",
      "Data columns (total 5 columns):\n",
      " #   Column   Non-Null Count  Dtype         \n",
      "---  ------   --------------  -----         \n",
      " 0   orderId  1197 non-null   int64         \n",
      " 1   userId   1197 non-null   int64         \n",
      " 2   date     1197 non-null   datetime64[ns]\n",
      " 3   revenue  1197 non-null   int64         \n",
      " 4   group    1197 non-null   object        \n",
      "dtypes: datetime64[ns](1), int64(3), object(1)\n",
      "memory usage: 46.9+ KB\n"
     ]
    },
    {
     "data": {
      "text/plain": [
       "None"
      ]
     },
     "metadata": {},
     "output_type": "display_data"
    },
    {
     "name": "stdout",
     "output_type": "stream",
     "text": [
      "<class 'pandas.core.frame.DataFrame'>\n",
      "RangeIndex: 62 entries, 0 to 61\n",
      "Data columns (total 3 columns):\n",
      " #   Column    Non-Null Count  Dtype         \n",
      "---  ------    --------------  -----         \n",
      " 0   date      62 non-null     datetime64[ns]\n",
      " 1   group     62 non-null     object        \n",
      " 2   visitors  62 non-null     int64         \n",
      "dtypes: datetime64[ns](1), int64(1), object(1)\n",
      "memory usage: 1.6+ KB\n"
     ]
    },
    {
     "data": {
      "text/plain": [
       "None"
      ]
     },
     "metadata": {},
     "output_type": "display_data"
    }
   ],
   "source": [
    "# Проверим, что получилось\n",
    "for i in [data, orders, visitors]:\n",
    "    display(i.info())"
   ]
  },
  {
   "cell_type": "markdown",
   "metadata": {},
   "source": [
    "**Вывод:** Данные подготовлены для дальнейшего анализа. Мы исправили тип данных в столбцах, привели названия всех столбцов к единому стилю. Данные в столбцах совпадают по количеству с общим размером датафреймов - это означает, что пропуски в данных отсутствуют. Дубликаты отсутствуют."
   ]
  },
  {
   "cell_type": "markdown",
   "metadata": {},
   "source": [
    "### Приоритизация гипотез (часть 1)"
   ]
  },
  {
   "cell_type": "markdown",
   "metadata": {},
   "source": [
    "#### Применим фреймворк ICE для приоритизации гипотез. Отсортируем их по убыванию приоритета."
   ]
  },
  {
   "cell_type": "code",
   "execution_count": 7,
   "metadata": {},
   "outputs": [
    {
     "data": {
      "text/html": [
       "<div>\n",
       "<style scoped>\n",
       "    .dataframe tbody tr th:only-of-type {\n",
       "        vertical-align: middle;\n",
       "    }\n",
       "\n",
       "    .dataframe tbody tr th {\n",
       "        vertical-align: top;\n",
       "    }\n",
       "\n",
       "    .dataframe thead th {\n",
       "        text-align: right;\n",
       "    }\n",
       "</style>\n",
       "<table border=\"1\" class=\"dataframe\">\n",
       "  <thead>\n",
       "    <tr style=\"text-align: right;\">\n",
       "      <th></th>\n",
       "      <th>hypothesis</th>\n",
       "      <th>ICE</th>\n",
       "    </tr>\n",
       "  </thead>\n",
       "  <tbody>\n",
       "    <tr>\n",
       "      <th>8</th>\n",
       "      <td>Запустить акцию, дающую скидку на товар в день рождения</td>\n",
       "      <td>16.200000</td>\n",
       "    </tr>\n",
       "    <tr>\n",
       "      <th>0</th>\n",
       "      <td>Добавить два новых канала привлечения трафика, что позволит привлекать на 30% больше пользователей</td>\n",
       "      <td>13.333333</td>\n",
       "    </tr>\n",
       "    <tr>\n",
       "      <th>7</th>\n",
       "      <td>Добавить форму подписки на все основные страницы, чтобы собрать базу клиентов для email-рассылок</td>\n",
       "      <td>11.200000</td>\n",
       "    </tr>\n",
       "    <tr>\n",
       "      <th>6</th>\n",
       "      <td>Показать на главной странице баннеры с актуальными акциями и распродажами, чтобы увеличить конверсию</td>\n",
       "      <td>8.000000</td>\n",
       "    </tr>\n",
       "    <tr>\n",
       "      <th>2</th>\n",
       "      <td>Добавить блоки рекомендаций товаров на сайт интернет магазина, чтобы повысить конверсию и средний чек заказа</td>\n",
       "      <td>7.000000</td>\n",
       "    </tr>\n",
       "    <tr>\n",
       "      <th>1</th>\n",
       "      <td>Запустить собственную службу доставки, что сократит срок доставки заказов</td>\n",
       "      <td>2.000000</td>\n",
       "    </tr>\n",
       "    <tr>\n",
       "      <th>5</th>\n",
       "      <td>Добавить страницу отзывов клиентов о магазине, что позволит увеличить количество заказов</td>\n",
       "      <td>1.333333</td>\n",
       "    </tr>\n",
       "    <tr>\n",
       "      <th>3</th>\n",
       "      <td>Изменить структура категорий, что увеличит конверсию, т.к. пользователи быстрее найдут нужный товар</td>\n",
       "      <td>1.125000</td>\n",
       "    </tr>\n",
       "    <tr>\n",
       "      <th>4</th>\n",
       "      <td>Изменить цвет фона главной страницы, чтобы увеличить вовлеченность пользователей</td>\n",
       "      <td>1.000000</td>\n",
       "    </tr>\n",
       "  </tbody>\n",
       "</table>\n",
       "</div>"
      ],
      "text/plain": [
       "                                                                                                     hypothesis  \\\n",
       "8                                                       Запустить акцию, дающую скидку на товар в день рождения   \n",
       "0            Добавить два новых канала привлечения трафика, что позволит привлекать на 30% больше пользователей   \n",
       "7              Добавить форму подписки на все основные страницы, чтобы собрать базу клиентов для email-рассылок   \n",
       "6          Показать на главной странице баннеры с актуальными акциями и распродажами, чтобы увеличить конверсию   \n",
       "2  Добавить блоки рекомендаций товаров на сайт интернет магазина, чтобы повысить конверсию и средний чек заказа   \n",
       "1                                     Запустить собственную службу доставки, что сократит срок доставки заказов   \n",
       "5                      Добавить страницу отзывов клиентов о магазине, что позволит увеличить количество заказов   \n",
       "3           Изменить структура категорий, что увеличит конверсию, т.к. пользователи быстрее найдут нужный товар   \n",
       "4                              Изменить цвет фона главной страницы, чтобы увеличить вовлеченность пользователей   \n",
       "\n",
       "         ICE  \n",
       "8  16.200000  \n",
       "0  13.333333  \n",
       "7  11.200000  \n",
       "6   8.000000  \n",
       "2   7.000000  \n",
       "1   2.000000  \n",
       "5   1.333333  \n",
       "3   1.125000  \n",
       "4   1.000000  "
      ]
     },
     "execution_count": 7,
     "metadata": {},
     "output_type": "execute_result"
    }
   ],
   "source": [
    "data['ICE'] = data['impact'] * data['confidence']/data['efforts']\n",
    "data['ICE'] = data['ICE'].astype('float')\n",
    "data[['hypothesis','ICE']].sort_values(by='ICE', ascending=False)"
   ]
  },
  {
   "cell_type": "markdown",
   "metadata": {},
   "source": [
    "**Применив фреймворк ICE мы получили три наиболее перспективные для изучения гипотезы:**\n",
    "1) Запустить акцию, дающую скидку на товар в день рождения;\n",
    "\n",
    "2) Добавить два новых канала привлечения трафика, что позволит привлекать на 30% больше пользователей;\n",
    "\n",
    "3) Добавить форму подписки на все основные страницы, чтобы собрать базу клиентов для email-рассылок."
   ]
  },
  {
   "cell_type": "markdown",
   "metadata": {},
   "source": [
    "#### Применим фреймворк RICE для приоритизации гипотез. Отсортируем их по убыванию приоритета."
   ]
  },
  {
   "cell_type": "code",
   "execution_count": 8,
   "metadata": {},
   "outputs": [
    {
     "data": {
      "text/html": [
       "<div>\n",
       "<style scoped>\n",
       "    .dataframe tbody tr th:only-of-type {\n",
       "        vertical-align: middle;\n",
       "    }\n",
       "\n",
       "    .dataframe tbody tr th {\n",
       "        vertical-align: top;\n",
       "    }\n",
       "\n",
       "    .dataframe thead th {\n",
       "        text-align: right;\n",
       "    }\n",
       "</style>\n",
       "<table border=\"1\" class=\"dataframe\">\n",
       "  <thead>\n",
       "    <tr style=\"text-align: right;\">\n",
       "      <th></th>\n",
       "      <th>hypothesis</th>\n",
       "      <th>RICE</th>\n",
       "    </tr>\n",
       "  </thead>\n",
       "  <tbody>\n",
       "    <tr>\n",
       "      <th>7</th>\n",
       "      <td>Добавить форму подписки на все основные страницы, чтобы собрать базу клиентов для email-рассылок</td>\n",
       "      <td>112.0</td>\n",
       "    </tr>\n",
       "    <tr>\n",
       "      <th>2</th>\n",
       "      <td>Добавить блоки рекомендаций товаров на сайт интернет магазина, чтобы повысить конверсию и средний чек заказа</td>\n",
       "      <td>56.0</td>\n",
       "    </tr>\n",
       "    <tr>\n",
       "      <th>0</th>\n",
       "      <td>Добавить два новых канала привлечения трафика, что позволит привлекать на 30% больше пользователей</td>\n",
       "      <td>40.0</td>\n",
       "    </tr>\n",
       "    <tr>\n",
       "      <th>6</th>\n",
       "      <td>Показать на главной странице баннеры с актуальными акциями и распродажами, чтобы увеличить конверсию</td>\n",
       "      <td>40.0</td>\n",
       "    </tr>\n",
       "    <tr>\n",
       "      <th>8</th>\n",
       "      <td>Запустить акцию, дающую скидку на товар в день рождения</td>\n",
       "      <td>16.2</td>\n",
       "    </tr>\n",
       "    <tr>\n",
       "      <th>3</th>\n",
       "      <td>Изменить структура категорий, что увеличит конверсию, т.к. пользователи быстрее найдут нужный товар</td>\n",
       "      <td>9.0</td>\n",
       "    </tr>\n",
       "    <tr>\n",
       "      <th>1</th>\n",
       "      <td>Запустить собственную службу доставки, что сократит срок доставки заказов</td>\n",
       "      <td>4.0</td>\n",
       "    </tr>\n",
       "    <tr>\n",
       "      <th>5</th>\n",
       "      <td>Добавить страницу отзывов клиентов о магазине, что позволит увеличить количество заказов</td>\n",
       "      <td>4.0</td>\n",
       "    </tr>\n",
       "    <tr>\n",
       "      <th>4</th>\n",
       "      <td>Изменить цвет фона главной страницы, чтобы увеличить вовлеченность пользователей</td>\n",
       "      <td>3.0</td>\n",
       "    </tr>\n",
       "  </tbody>\n",
       "</table>\n",
       "</div>"
      ],
      "text/plain": [
       "                                                                                                     hypothesis  \\\n",
       "7              Добавить форму подписки на все основные страницы, чтобы собрать базу клиентов для email-рассылок   \n",
       "2  Добавить блоки рекомендаций товаров на сайт интернет магазина, чтобы повысить конверсию и средний чек заказа   \n",
       "0            Добавить два новых канала привлечения трафика, что позволит привлекать на 30% больше пользователей   \n",
       "6          Показать на главной странице баннеры с актуальными акциями и распродажами, чтобы увеличить конверсию   \n",
       "8                                                       Запустить акцию, дающую скидку на товар в день рождения   \n",
       "3           Изменить структура категорий, что увеличит конверсию, т.к. пользователи быстрее найдут нужный товар   \n",
       "1                                     Запустить собственную службу доставки, что сократит срок доставки заказов   \n",
       "5                      Добавить страницу отзывов клиентов о магазине, что позволит увеличить количество заказов   \n",
       "4                              Изменить цвет фона главной страницы, чтобы увеличить вовлеченность пользователей   \n",
       "\n",
       "    RICE  \n",
       "7  112.0  \n",
       "2   56.0  \n",
       "0   40.0  \n",
       "6   40.0  \n",
       "8   16.2  \n",
       "3    9.0  \n",
       "1    4.0  \n",
       "5    4.0  \n",
       "4    3.0  "
      ]
     },
     "execution_count": 8,
     "metadata": {},
     "output_type": "execute_result"
    }
   ],
   "source": [
    "data['RICE'] = (data['reach'] * data['impact'] * data['confidence'])/data['efforts']\n",
    "data[['hypothesis','RICE']].sort_values(by='RICE', ascending=False)"
   ]
  },
  {
   "cell_type": "markdown",
   "metadata": {},
   "source": [
    "**Применив фреймворк RICE мы получили три наиболее перспективные для изучения гипотезы:**\n",
    "1) Добавить форму подписки на все основные страницы, чтобы собрать базу клиентов для email-рассылок;\n",
    "\n",
    "2) Добавить блоки рекомендаций товаров на сайт интернет магазина, чтобы повысить конверсию и средний чек заказа;\n",
    "\n",
    "3) Добавить два новых канала привлечения трафика, что позволит привлекать на 30% больше пользователей."
   ]
  },
  {
   "cell_type": "markdown",
   "metadata": {},
   "source": [
    "#### Изменение приоритизации гипотез при применении RICE вместо ICE."
   ]
  },
  {
   "cell_type": "markdown",
   "metadata": {},
   "source": [
    "RICE в отличии от ICE имеет `Reach` — охват пользователей, которых затронет изменение, которое мы хотим внести;\n",
    "\n",
    "Разница приоритезиций заключается в том, что одна учитывает кол-во пользователей, которых затронут изменения, а другая - нет.\n",
    "    \n",
    "Наиболее перспективными гипотезами, вошедшими в первую тройку при применении как одного, так и другого фреймворка, являются:\n",
    "    \n",
    "1) `Добавить два новых канала привлечения трафика, что позволит привлекать на 30% больше пользователей`;\n",
    "    \n",
    "2) `Добавить форму подписки на все основные страницы, чтобы собрать базу клиентов для email-рассылок`."
   ]
  },
  {
   "cell_type": "markdown",
   "metadata": {},
   "source": [
    "### Анализ A/B-теста"
   ]
  },
  {
   "cell_type": "markdown",
   "metadata": {},
   "source": [
    "#### Проанализируем A/B-тест:"
   ]
  },
  {
   "cell_type": "markdown",
   "metadata": {},
   "source": [
    "##### Построим график кумулятивной выручки по группам. Сделаем выводы и предположения."
   ]
  },
  {
   "cell_type": "code",
   "execution_count": 9,
   "metadata": {},
   "outputs": [
    {
     "data": {
      "image/png": "[encoded data removed]",
      "text/plain": [
       "<Figure size 1500x400 with 1 Axes>"
      ]
     },
     "metadata": {},
     "output_type": "display_data"
    }
   ],
   "source": [
    "datesGroups = orders[['date', 'group']].drop_duplicates()\n",
    "\n",
    "ordersAggregated = datesGroups.apply(\n",
    "    lambda x: orders[\n",
    "        np.logical_and(\n",
    "            orders['date'] <= x['date'], orders['group'] == x['group']\n",
    "        )\n",
    "    ].agg(\n",
    "        {\n",
    "            'date': 'max',\n",
    "            'group': 'max',\n",
    "            'orderId': 'nunique',\n",
    "            'userId': 'nunique',\n",
    "            'revenue': 'sum',\n",
    "        }\n",
    "    ),\n",
    "    axis=1,\n",
    ").sort_values(by=['date', 'group'])\n",
    "\n",
    "visitorsAggregated = datesGroups.apply(\n",
    "    lambda x: visitors[\n",
    "        np.logical_and(\n",
    "            visitors['date'] <= x['date'], visitors['group'] == x['group']\n",
    "        )\n",
    "    ].agg({'date': 'max', 'group': 'max', 'visitors': 'sum'}),\n",
    "    axis=1,\n",
    ").sort_values(by=['date', 'group'])\n",
    "\n",
    "cumulativeData = ordersAggregated.merge(\n",
    "    visitorsAggregated, left_on=['date', 'group'], right_on=['date', 'group']\n",
    ")\n",
    "cumulativeData.columns = [\n",
    "    'date',\n",
    "    'group',\n",
    "    'orders',\n",
    "    'buyers',\n",
    "    'revenue',\n",
    "    'visitors',\n",
    "]\n",
    "\n",
    "# датафрейм с кумулятивным количеством заказов и кумулятивной выручкой по дням в группе А\n",
    "cumulativeRevenueA = cumulativeData[cumulativeData['group']=='A'][['date','revenue', 'orders']]\n",
    "\n",
    "# датафрейм с кумулятивным количеством заказов и кумулятивной выручкой по дням в группе B\n",
    "cumulativeRevenueB = cumulativeData[cumulativeData['group']=='B'][['date','revenue', 'orders']]\n",
    "\n",
    "# Задаем размер графику\n",
    "plt.figure(figsize=(15, 4))\n",
    "\n",
    "# Строим график выручки группы А\n",
    "plt.plot(cumulativeRevenueA['date'], cumulativeRevenueA['revenue'], label='A')\n",
    "# Строим график выручки группы B\n",
    "plt.plot(cumulativeRevenueB['date'], cumulativeRevenueB['revenue'], label='B')\n",
    "\n",
    "plt.legend()\n",
    "plt.xticks(rotation=45)\n",
    "plt.title(\"График кумулятивной выручки по группам\")\n",
    "plt.ylabel(\"Объем кумулятивной выручки\")\n",
    "plt.xlabel(\"Дата\")\n",
    "plt.show()"
   ]
  },
  {
   "cell_type": "markdown",
   "metadata": {},
   "source": [
    "**Вывод:**\n",
    "    \n",
    "Группа Б стабильно показывает более высокие показатели кумулятивной выручки.\n",
    "\n",
    "17 августа заметен резкий подъем в группе Б - возможно, увеличилась стоимость среднего чека или кол-во заказов. Мы еще не проверяли аномалии и выбросы, к их проверке приступим позже."
   ]
  },
  {
   "cell_type": "markdown",
   "metadata": {},
   "source": [
    "##### Построим график кумулятивного среднего чека по группам. Сделаем выводы и предположения."
   ]
  },
  {
   "cell_type": "code",
   "execution_count": 10,
   "metadata": {},
   "outputs": [
    {
     "data": {
      "image/png": "[encoded data removed]",
      "text/plain": [
       "<Figure size 1500x400 with 1 Axes>"
      ]
     },
     "metadata": {},
     "output_type": "display_data"
    }
   ],
   "source": [
    "plt.figure(figsize=(15, 4))\n",
    "plt.plot(cumulativeRevenueA['date'], cumulativeRevenueA['revenue']/cumulativeRevenueA['orders'], label='A')\n",
    "plt.plot(cumulativeRevenueB['date'], cumulativeRevenueB['revenue']/cumulativeRevenueB['orders'], label='B')\n",
    "plt.legend()\n",
    "plt.xticks(rotation=45)\n",
    "plt.title(\"График кумулятивного среднего чека по группам\")\n",
    "plt.ylabel(\"Средний чек\")\n",
    "plt.xlabel(\"Дата\")\n",
    "plt.show()"
   ]
  },
  {
   "cell_type": "markdown",
   "metadata": {},
   "source": [
    "**Вывод:**\n",
    "\n",
    "Мы видим на графике, как 17 августа поменялся средний чек в группе Б, а затем наметилась тенденция к выравниванию средней - видимо, в этот период в группе Б были совершены заказы на довольно крупную сумму, которая существенно повлияла на значение среднего чека.\n",
    "\n",
    "Кумулятивное значение среднего чека продолжает колебаться. Скорее всего, принимать решение по этой метрике рано."
   ]
  },
  {
   "cell_type": "markdown",
   "metadata": {},
   "source": [
    "##### Построим график относительного изменения кумулятивного среднего чека группы B к группе A. Сделаем выводы и предположения."
   ]
  },
  {
   "cell_type": "code",
   "execution_count": 11,
   "metadata": {},
   "outputs": [
    {
     "data": {
      "image/png": "[encoded data removed]",
      "text/plain": [
       "<Figure size 1500x400 with 1 Axes>"
      ]
     },
     "metadata": {},
     "output_type": "display_data"
    }
   ],
   "source": [
    "# собираем данные в одном датафрейме\n",
    "mergedCumulativeRevenue = cumulativeRevenueA.merge(cumulativeRevenueB, left_on='date', right_on='date', how='left', suffixes=['A', 'B'])\n",
    "\n",
    "plt.figure(figsize=(15, 4))\n",
    "\n",
    "# cтроим отношение средних чеков\n",
    "plt.plot(mergedCumulativeRevenue['date'], (mergedCumulativeRevenue['revenueB']/mergedCumulativeRevenue['ordersB'])/(mergedCumulativeRevenue['revenueA']/mergedCumulativeRevenue['ordersA'])-1)\n",
    "\n",
    "# добавляем ось X\n",
    "plt.axhline(y=0, color='black', linestyle='--')\n",
    "\n",
    "plt.xticks(rotation=45)\n",
    "plt.title(\"График относительного изменения кумулятивного среднего чека группы B к группе A.\")\n",
    "plt.ylabel(\"Отношение кумулятивного среднего чека В к А\")\n",
    "plt.xlabel(\"Дата\")\n",
    "plt.show()"
   ]
  },
  {
   "cell_type": "markdown",
   "metadata": {},
   "source": [
    "**Вывод:**\n",
    "    \n",
    "Результаты теста значительно и резко менялись в несколько дат. Видимо, именно тогда были совершенны аномальные заказы."
   ]
  },
  {
   "cell_type": "markdown",
   "metadata": {},
   "source": [
    "##### Построим график кумулятивного среднего количества заказов на посетителя по группам. Сделаем выводы и предположения."
   ]
  },
  {
   "cell_type": "code",
   "execution_count": 12,
   "metadata": {},
   "outputs": [
    {
     "data": {
      "image/png": "[encoded data removed]",
      "text/plain": [
       "<Figure size 1500x400 with 1 Axes>"
      ]
     },
     "metadata": {},
     "output_type": "display_data"
    }
   ],
   "source": [
    "# считаем кумулятивную конверсию\n",
    "cumulativeData['conversion'] = cumulativeData['orders']/cumulativeData['visitors']\n",
    "\n",
    "# отделяем данные по группе A\n",
    "cumulativeDataA = cumulativeData[cumulativeData['group']=='A']\n",
    "# отделяем данные по группе B\n",
    "cumulativeDataB = cumulativeData[cumulativeData['group']=='B']\n",
    "\n",
    "# строим графики\n",
    "plt.figure(figsize=(15, 4))\n",
    "plt.plot(cumulativeDataA['date'], cumulativeDataA['conversion'], label='A')\n",
    "plt.plot(cumulativeDataB['date'], cumulativeDataB['conversion'], label='B')\n",
    "plt.legend()\n",
    "plt.xticks(rotation=45)\n",
    "plt.title(\"График кумулятивного среднего количества заказов на посетителя по группам\")\n",
    "plt.ylabel(\"Среднее количества заказов на посетителя\")\n",
    "plt.xlabel(\"Дата\")\n",
    "plt.show()"
   ]
  },
  {
   "cell_type": "markdown",
   "metadata": {},
   "source": [
    "**Вывод:** \n",
    "    \n",
    "Кумулятивное среднее количество заказов на посетителя в группе Б превышает значение аналогичного показателя группы А"
   ]
  },
  {
   "cell_type": "markdown",
   "metadata": {},
   "source": [
    "##### Построим график относительного изменения кумулятивного среднего количества заказов на посетителя группы B к группе A. Сделаем выводы и предположения."
   ]
  },
  {
   "cell_type": "code",
   "execution_count": 13,
   "metadata": {},
   "outputs": [
    {
     "data": {
      "image/png": "[encoded data removed]",
      "text/plain": [
       "<Figure size 1500x400 with 1 Axes>"
      ]
     },
     "metadata": {},
     "output_type": "display_data"
    }
   ],
   "source": [
    "mergedCumulativeConversions = cumulativeDataA[['date','conversion']].merge(cumulativeDataB[['date','conversion']], left_on='date', right_on='date', how='left', suffixes=['A', 'B'])\n",
    "plt.figure(figsize=(15, 4))\n",
    "plt.plot(mergedCumulativeConversions['date'], mergedCumulativeConversions['conversionB']/mergedCumulativeConversions['conversionA']-1, label=\"Относительный прирост конверсии группы B относительно группы A\")\n",
    "\n",
    "plt.legend()\n",
    "plt.axhline(y=0, color='black', linestyle='--')\n",
    "plt.axhline(y=0.2, color='grey', linestyle='--')\n",
    "plt.xticks(rotation=45)\n",
    "plt.title(\"График относительного изменения кумулятивного среднего количества заказов на посетителя группы B к группе A\")\n",
    "plt.ylabel(\"Отношение среднего количества заказов на посетителя В к А\")\n",
    "plt.xlabel(\"Дата\")\n",
    "plt.show()"
   ]
  },
  {
   "cell_type": "markdown",
   "metadata": {},
   "source": [
    "**Вывод:**\n",
    "\n",
    "Почти с самого начала теста группа Б лидирует по конверсии: становится лучше и лучше, либо зафиксировалась около прироста в 20% относительно группы А. "
   ]
  },
  {
   "cell_type": "markdown",
   "metadata": {},
   "source": [
    "##### Построим точечный график количества заказов по пользователям. Сделаем выводы и предположения."
   ]
  },
  {
   "cell_type": "code",
   "execution_count": 14,
   "metadata": {},
   "outputs": [],
   "source": [
    "# Метод .groupby() сгруппирует заказы по пользователям\n",
    "ordersByUsers = (\n",
    "    orders.groupby('userId', as_index=False)\n",
    "    .agg({'orderId': 'nunique'})\n",
    ")\n",
    "ordersByUsers.columns = ['userId', 'orders']"
   ]
  },
  {
   "cell_type": "code",
   "execution_count": 15,
   "metadata": {},
   "outputs": [
    {
     "data": {
      "image/png": "[encoded data removed]",
      "text/plain": [
       "<Figure size 1500x400 with 1 Axes>"
      ]
     },
     "metadata": {},
     "output_type": "display_data"
    }
   ],
   "source": [
    "# Построим гистограмму распределения числа заказов по пользователям\n",
    "plt.figure(figsize=(15, 4))\n",
    "plt.hist(ordersByUsers['orders'])\n",
    "plt.title(\"Гистограмма количества заказов по пользователям\")\n",
    "plt.ylabel(\"Количество пользователей\")\n",
    "plt.xlabel(\"Количество заказов\")\n",
    "plt.show()"
   ]
  },
  {
   "cell_type": "code",
   "execution_count": 16,
   "metadata": {},
   "outputs": [
    {
     "data": {
      "image/png": "[encoded data removed]",
      "text/plain": [
       "<Figure size 1500x400 with 1 Axes>"
      ]
     },
     "metadata": {},
     "output_type": "display_data"
    }
   ],
   "source": [
    "# Построим диаграмму методом scatter()\n",
    "x_values = pd.Series(range(0, len(ordersByUsers)))\n",
    "plt.figure(figsize=(15, 4))\n",
    "plt.scatter(x_values, ordersByUsers['orders'])\n",
    "plt.title(\"Точечный график количества заказов по пользователям\")\n",
    "plt.ylabel(\"Количество заказов\")\n",
    "plt.xlabel(\"Пользователи\")\n",
    "plt.show()"
   ]
  },
  {
   "cell_type": "markdown",
   "metadata": {},
   "source": [
    "**Вывод:**\n",
    "    \n",
    "Из графиков видно, что в среднем один пользователь делал один заказ, много пользователей с 2-3 заказами. Их точная доля не ясна, поэтому сложно понять, можно ли считать их выбросами или нет."
   ]
  },
  {
   "cell_type": "markdown",
   "metadata": {},
   "source": [
    "##### Посчитаем 95-й и 99-й перцентили количества заказов на пользователя. Выберем границу для определения аномальных пользователей."
   ]
  },
  {
   "cell_type": "code",
   "execution_count": 17,
   "metadata": {},
   "outputs": [
    {
     "data": {
      "text/plain": [
       "array([2., 4.])"
      ]
     },
     "execution_count": 17,
     "metadata": {},
     "output_type": "execute_result"
    }
   ],
   "source": [
    "np.percentile(ordersByUsers['orders'], [95, 99])"
   ]
  },
  {
   "cell_type": "markdown",
   "metadata": {},
   "source": [
    "**Вывод:**    \n",
    "\n",
    "Не более 5% пользователей совершали больше 2-х покупок в течение тестирования. И только 1% - четыре и более.\n",
    "Примем за верхнюю границу 4 заказа на одного пользователя."
   ]
  },
  {
   "cell_type": "markdown",
   "metadata": {},
   "source": [
    "##### Построим точечный график стоимостей заказов. Сделаем выводы и предположения."
   ]
  },
  {
   "cell_type": "code",
   "execution_count": 18,
   "metadata": {},
   "outputs": [
    {
     "data": {
      "image/png": "[encoded data removed]",
      "text/plain": [
       "<Figure size 1500x400 with 1 Axes>"
      ]
     },
     "metadata": {},
     "output_type": "display_data"
    }
   ],
   "source": [
    "# Построим гистограмму распределения выручекс заказов по пользователям методом hist()\n",
    "plt.figure(figsize=(15, 4))\n",
    "plt.hist(orders['revenue'])\n",
    "plt.title(\"Гистограмма стоимостей заказов по пользователям\")\n",
    "plt.ylabel(\"Количество пользователей\")\n",
    "plt.xlabel(\"Стоимость заказов\")\n",
    "plt.show()"
   ]
  },
  {
   "cell_type": "code",
   "execution_count": 19,
   "metadata": {},
   "outputs": [
    {
     "data": {
      "image/png": "[encoded data removed]",
      "text/plain": [
       "<Figure size 1500x400 with 1 Axes>"
      ]
     },
     "metadata": {},
     "output_type": "display_data"
    }
   ],
   "source": [
    "# Построим диаграмму методом scatter()\n",
    "x_values = pd.Series(range(0, len(orders['revenue'])))\n",
    "plt.figure(figsize=(15, 4))\n",
    "plt.scatter(x_values, orders['revenue'])\n",
    "plt.title(\"Точечный график стоимостей заказов по пользователям\")\n",
    "plt.ylabel(\"Стоимость заказа\")\n",
    "plt.xlabel(\"Пользователи\")\n",
    "plt.show()"
   ]
  },
  {
   "cell_type": "markdown",
   "metadata": {},
   "source": [
    "**Вывод:**\n",
    "\n",
    "Один из заказов - почти 1.3 млн.!    \n",
    "В основном, стоимость заказа не превышает 20 000, даже несколько ниже этой цифры."
   ]
  },
  {
   "cell_type": "markdown",
   "metadata": {},
   "source": [
    "##### Посчитаем 95-й и 99-й перцентили стоимости заказов. Выберем границу для определения аномальных заказов."
   ]
  },
  {
   "cell_type": "code",
   "execution_count": 20,
   "metadata": {},
   "outputs": [
    {
     "data": {
      "text/plain": [
       "array([28000. , 58233.2])"
      ]
     },
     "execution_count": 20,
     "metadata": {},
     "output_type": "execute_result"
    }
   ],
   "source": [
    "np.percentile(orders['revenue'], [95, 99])"
   ]
  },
  {
   "cell_type": "markdown",
   "metadata": {},
   "source": [
    "**Вывод:**\n",
    "Определяем границу по величине 99% перцентиля (58233)"
   ]
  },
  {
   "cell_type": "markdown",
   "metadata": {},
   "source": [
    "##### Посчитаем статистическую значимость различий в среднем количестве заказов на посетителя между группами по «сырым» данным. Сделаем выводы и предположения."
   ]
  },
  {
   "cell_type": "markdown",
   "metadata": {},
   "source": [
    "Посчитаем статистическую значимость различий в конверсии между группами по «сырым» данным — без удаления аномальных пользователей.\n",
    "\n",
    "Уровень статистической значимости: **0.05**\n",
    "\n",
    "**Сформулируем гипотезы:**\n",
    "- Нулевая: различий в среднем количестве заказов между группами нет;\n",
    "- Альтернативная: различия в среднем между группами есть."
   ]
  },
  {
   "cell_type": "code",
   "execution_count": 21,
   "metadata": {},
   "outputs": [],
   "source": [
    "visitorsADaily = visitors[visitors['group'] == 'A'][['date', 'visitors']]\n",
    "visitorsADaily.columns = ['date', 'visitorsPerDateA']\n",
    "\n",
    "visitorsACummulative = visitorsADaily.apply(\n",
    "    lambda x: visitorsADaily[visitorsADaily['date'] <= x['date']].agg(\n",
    "        {'date': 'max', 'visitorsPerDateA': 'sum'}\n",
    "    ),\n",
    "    axis=1,\n",
    ")\n",
    "visitorsACummulative.columns = ['date', 'visitorsCummulativeA']\n",
    "\n",
    "visitorsBDaily = visitors[visitors['group'] == 'B'][['date', 'visitors']]\n",
    "visitorsBDaily.columns = ['date', 'visitorsPerDateB']\n",
    "\n",
    "visitorsBCummulative = visitorsBDaily.apply(\n",
    "    lambda x: visitorsBDaily[visitorsBDaily['date'] <= x['date']].agg(\n",
    "        {'date': 'max', 'visitorsPerDateB': 'sum'}\n",
    "    ),\n",
    "    axis=1,\n",
    ")\n",
    "visitorsBCummulative.columns = ['date', 'visitorsCummulativeB']\n",
    "\n",
    "ordersADaily = (\n",
    "    orders[orders['group'] == 'A'][['date', 'orderId', 'userId', 'revenue']]\n",
    "    .groupby('date', as_index=False)\n",
    "    .agg({'orderId': pd.Series.nunique, 'revenue': 'sum'})\n",
    ")\n",
    "ordersADaily.columns = ['date', 'ordersPerDateA', 'revenuePerDateA']\n",
    "\n",
    "ordersACummulative = ordersADaily.apply(\n",
    "    lambda x: ordersADaily[ordersADaily['date'] <= x['date']].agg(\n",
    "        {'date': 'max', 'ordersPerDateA': 'sum', 'revenuePerDateA': 'sum'}\n",
    "    ),\n",
    "    axis=1,\n",
    ").sort_values(by=['date'])\n",
    "ordersACummulative.columns = [\n",
    "    'date',\n",
    "    'ordersCummulativeA',\n",
    "    'revenueCummulativeA',\n",
    "]\n",
    "\n",
    "ordersBDaily = (\n",
    "    orders[orders['group'] == 'B'][['date', 'orderId', 'userId', 'revenue']]\n",
    "    .groupby('date', as_index=False)\n",
    "    .agg({'orderId': pd.Series.nunique, 'revenue': 'sum'})\n",
    ")\n",
    "ordersBDaily.columns = ['date', 'ordersPerDateB', 'revenuePerDateB']\n",
    "\n",
    "ordersBCummulative = ordersBDaily.apply(\n",
    "    lambda x: ordersBDaily[ordersBDaily['date'] <= x['date']].agg(\n",
    "        {'date': 'max', 'ordersPerDateB': 'sum', 'revenuePerDateB': 'sum'}\n",
    "    ),\n",
    "    axis=1,\n",
    ").sort_values(by=['date'])\n",
    "ordersBCummulative.columns = [\n",
    "    'date',\n",
    "    'ordersCummulativeB',\n",
    "    'revenueCummulativeB',\n",
    "]\n",
    "\n",
    "data = (\n",
    "    ordersADaily.merge(\n",
    "        ordersBDaily, left_on='date', right_on='date', how='left'\n",
    "    )\n",
    "    .merge(ordersACummulative, left_on='date', right_on='date', how='left')\n",
    "    .merge(ordersBCummulative, left_on='date', right_on='date', how='left')\n",
    "    .merge(visitorsADaily, left_on='date', right_on='date', how='left')\n",
    "    .merge(visitorsBDaily, left_on='date', right_on='date', how='left')\n",
    "    .merge(visitorsACummulative, left_on='date', right_on='date', how='left')\n",
    "    .merge(visitorsBCummulative, left_on='date', right_on='date', how='left')\n",
    ")\n",
    "\n",
    "ordersByUsersA = (\n",
    "    orders[orders['group'] == 'A']\n",
    "    .groupby('userId', as_index=False)\n",
    "    .agg({'orderId': pd.Series.nunique})\n",
    ")\n",
    "ordersByUsersA.columns = ['userId', 'orders']\n",
    "\n",
    "ordersByUsersB = (\n",
    "    orders[orders['group'] == 'B']\n",
    "    .groupby('userId', as_index=False)\n",
    "    .agg({'orderId': pd.Series.nunique})\n",
    ")\n",
    "ordersByUsersB.columns = ['userId', 'orders']\n",
    "\n",
    "sampleA = pd.concat(\n",
    "    [\n",
    "        ordersByUsersA['orders'],\n",
    "        pd.Series(\n",
    "            0,\n",
    "            index=np.arange(\n",
    "                data['visitorsPerDateA'].sum() - len(ordersByUsersA['orders'])\n",
    "            ),\n",
    "            name='orders',\n",
    "        ),\n",
    "    ],\n",
    "    axis=0,\n",
    ")\n",
    "\n",
    "sampleB = pd.concat(\n",
    "    [\n",
    "        ordersByUsersB['orders'],\n",
    "        pd.Series(\n",
    "            0,\n",
    "            index=np.arange(\n",
    "                data['visitorsPerDateB'].sum() - len(ordersByUsersB['orders'])\n",
    "            ),\n",
    "            name='orders',\n",
    "        ),\n",
    "    ],\n",
    "    axis=0,\n",
    ")"
   ]
  },
  {
   "cell_type": "code",
   "execution_count": 22,
   "metadata": {},
   "outputs": [
    {
     "name": "stdout",
     "output_type": "stream",
     "text": [
      "0.01679\n",
      "0.138\n"
     ]
    }
   ],
   "source": [
    "print(\"{0:.5f}\".format(stats.mannwhitneyu(sampleA, sampleB)[1]))\n",
    "print(\"{0:.3f}\".format((data['ordersPerDateB'].sum()/data['visitorsPerDateB'].sum())/(data['ordersPerDateA'].sum()/data['visitorsPerDateA'].sum())-1))"
   ]
  },
  {
   "cell_type": "markdown",
   "metadata": {},
   "source": [
    "**Вывод:** \n",
    "    \n",
    "P-value = 0.01679 меньше 0.05. Значит, нулевую гипотезу о том, что статистически значимых различий в среднем числе заказов между группами нет, отвергаем в пользу альтернативной гипотезы - среднее число заказов на пользователя между группами различается.\n",
    "\n",
    "Количество заказов на пользователя в группе Б на 13,8% превышает аналогичный показатель группы А."
   ]
  },
  {
   "cell_type": "markdown",
   "metadata": {},
   "source": [
    "##### Посчитаем статистическую значимость различий в среднем чеке заказа между группами по «сырым» данным. Сделаем выводы и предположения."
   ]
  },
  {
   "cell_type": "code",
   "execution_count": 23,
   "metadata": {},
   "outputs": [
    {
     "name": "stdout",
     "output_type": "stream",
     "text": [
      "0.729\n",
      "0.259\n"
     ]
    }
   ],
   "source": [
    "print('{0:.3f}'.format(stats.mannwhitneyu(orders[orders['group']=='A']['revenue'], orders[orders['group']=='B']['revenue'])[1]))\n",
    "print('{0:.3f}'.format(orders[orders['group']=='B']['revenue'].mean()/orders[orders['group']=='A']['revenue'].mean()-1))"
   ]
  },
  {
   "cell_type": "markdown",
   "metadata": {},
   "source": [
    "**Вывод:** \n",
    "    \n",
    "P-value = 0.729 и значительно больше 0.05. Значит, причин отвергать нулевую гипотезу и считать, что в среднем чеке есть различия, нет.\n",
    "Различия в среднем чеке между группами составляют 25.9%"
   ]
  },
  {
   "cell_type": "markdown",
   "metadata": {},
   "source": [
    "##### Посчитаем статистическую значимость различий в среднем количестве заказов на посетителя между группами по «очищенным» данным. Сделаем выводы и предположения."
   ]
  },
  {
   "cell_type": "markdown",
   "metadata": {},
   "source": [
    "Ранее мы приняли за аномальных пользователей тех, кто совершил от 4 заказов или совершил заказ дороже 58 233 рублей. "
   ]
  },
  {
   "cell_type": "code",
   "execution_count": 24,
   "metadata": {},
   "outputs": [
    {
     "name": "stdout",
     "output_type": "stream",
     "text": [
      "15\n"
     ]
    }
   ],
   "source": [
    "usersWithManyOrders = pd.concat(\n",
    "    [\n",
    "        ordersByUsersA[ordersByUsersA['orders'] > np.percentile(ordersByUsers['orders'], [95, 99])[1]]['userId'],\n",
    "        ordersByUsersB[ordersByUsersB['orders'] > np.percentile(ordersByUsers['orders'], [95, 99])[1]]['userId'],\n",
    "    ],\n",
    "    axis=0,\n",
    ")\n",
    "usersWithExpensiveOrders = orders[orders['revenue'] > np.percentile(orders['revenue'], [95, 99])[1]]['userId']\n",
    "abnormalUsers = (\n",
    "    pd.concat([usersWithManyOrders, usersWithExpensiveOrders], axis=0)\n",
    "    .drop_duplicates()\n",
    "    .sort_values()\n",
    ")\n",
    "print(abnormalUsers.shape[0]) "
   ]
  },
  {
   "cell_type": "markdown",
   "metadata": {},
   "source": [
    "Всего 15 аномальных пользователей"
   ]
  },
  {
   "cell_type": "code",
   "execution_count": 25,
   "metadata": {},
   "outputs": [],
   "source": [
    "sampleAFiltered = pd.concat(\n",
    "    [\n",
    "        ordersByUsersA[\n",
    "            np.logical_not(ordersByUsersA['userId'].isin(abnormalUsers))\n",
    "        ]['orders'],\n",
    "        pd.Series(\n",
    "            0,\n",
    "            index=np.arange(\n",
    "                data['visitorsPerDateA'].sum() - len(ordersByUsersA['orders'])\n",
    "            ),\n",
    "            name='orders',\n",
    "        ),\n",
    "    ],\n",
    "    axis=0,\n",
    ")\n",
    "\n",
    "sampleBFiltered = pd.concat(\n",
    "    [\n",
    "        ordersByUsersB[\n",
    "            np.logical_not(ordersByUsersB['userId'].isin(abnormalUsers))\n",
    "        ]['orders'],\n",
    "        pd.Series(\n",
    "            0,\n",
    "            index=np.arange(\n",
    "                data['visitorsPerDateB'].sum() - len(ordersByUsersB['orders'])\n",
    "            ),\n",
    "            name='orders',\n",
    "        ),\n",
    "    ],\n",
    "    axis=0,\n",
    ") "
   ]
  },
  {
   "cell_type": "code",
   "execution_count": 26,
   "metadata": {},
   "outputs": [
    {
     "name": "stdout",
     "output_type": "stream",
     "text": [
      "0.014\n",
      "0.153\n"
     ]
    }
   ],
   "source": [
    "print('{0:.3f}'.format(stats.mannwhitneyu(sampleAFiltered, sampleBFiltered)[1]))\n",
    "print('{0:.3f}'.format(sampleBFiltered.mean()/sampleAFiltered.mean()-1))"
   ]
  },
  {
   "cell_type": "markdown",
   "metadata": {},
   "source": [
    "**Вывод:** \n",
    "    \n",
    "P-value = 0.014 меньше 0.05. Значит, нулевую гипотезу о том, что статистически значимых различий в среднем числе заказов между группами нет, отвергаем в пользу альтернативной гипотезы - среднее число заказов на пользователя между группами различается.\n",
    "\n",
    "Количество заказов на пользователя в группе Б на 15,3% превышает аналогичный показатель группы А."
   ]
  },
  {
   "cell_type": "markdown",
   "metadata": {},
   "source": [
    "##### Посчитаем статистическую значимость различий в среднем чеке заказа между группами по «очищенным» данным. Сделаем выводы и предположения."
   ]
  },
  {
   "cell_type": "code",
   "execution_count": 27,
   "metadata": {},
   "outputs": [
    {
     "name": "stdout",
     "output_type": "stream",
     "text": [
      "0.851\n",
      "0.006\n"
     ]
    }
   ],
   "source": [
    "print(\n",
    "    '{0:.3f}'.format(\n",
    "        stats.mannwhitneyu(\n",
    "            orders[\n",
    "                np.logical_and(\n",
    "                    orders['group'] == 'A',\n",
    "                    np.logical_not(orders['userId'].isin(abnormalUsers)),\n",
    "                )\n",
    "            ]['revenue'],\n",
    "            orders[\n",
    "                np.logical_and(\n",
    "                    orders['group'] == 'B',\n",
    "                    np.logical_not(orders['userId'].isin(abnormalUsers)),\n",
    "                )\n",
    "            ]['revenue'],\n",
    "        )[1]\n",
    "    )\n",
    ")\n",
    "print(\n",
    "    '{0:.3f}'.format(\n",
    "        \n",
    "            orders[\n",
    "                np.logical_and(\n",
    "                    orders['group'] == 'A',\n",
    "                    np.logical_not(orders['userId'].isin(abnormalUsers)),\n",
    "                )\n",
    "            ]['revenue'].mean() /\n",
    "            orders[\n",
    "                np.logical_and(\n",
    "                    orders['group'] == 'B',\n",
    "                    np.logical_not(orders['userId'].isin(abnormalUsers)),\n",
    "                )\n",
    "            ]['revenue'].mean()-1\n",
    "    )\n",
    ")"
   ]
  },
  {
   "cell_type": "markdown",
   "metadata": {},
   "source": [
    "**Вывод:**\n",
    "\n",
    "P-value значительно больше 0.05. Значит, причин отвергать нулевую гипотезу и считать, что в среднем чеке есть различия, нет. По разнице средних чеков групп различий практически нет."
   ]
  },
  {
   "cell_type": "markdown",
   "metadata": {},
   "source": [
    "### Вывод."
   ]
  },
  {
   "cell_type": "markdown",
   "metadata": {},
   "source": [
    "1. В части приоритизации гипотез из списка, предоставленных отделом Маркетинга следует в первую очередь обратить внимание на гипотезы:\n",
    "- \"Добавить форму подписки на все основные страницы, чтобы собрать базу клиентов для email-рассылок\",\n",
    "- \"Добавить два новых канала привлечения трафика, что позволит привлекать на 30% больше пользователей\".\n",
    "\n",
    "2. В части анализа А/В теста:\n",
    "\n",
    "- Есть статистически значимое различие по конверсии между группами как по «сырым», так и по данным после фильтрации аномалий. Конверсия группы В выше, чем в А, на 14-15%;\n",
    "- cредний чек по группам одинаков;\n",
    "\n",
    "3. Таким образом, **можно зафиксировать победу группы Б** - следовательно, необходимость в продолжении теста отсутствует."
   ]
  }
 ],
 "metadata": {
  "ExecuteTimeLog": [
   {
    "duration": 1519,
    "start_time": "2023-06-20T12:41:06.635Z"
   },
   {
    "duration": 268,
    "start_time": "2023-06-20T12:41:09.449Z"
   },
   {
    "duration": 45,
    "start_time": "2023-06-20T12:42:21.008Z"
   },
   {
    "duration": 545,
    "start_time": "2023-06-20T12:49:20.235Z"
   },
   {
    "duration": 15,
    "start_time": "2023-06-20T12:49:40.403Z"
   },
   {
    "duration": 12,
    "start_time": "2023-06-20T12:49:59.741Z"
   },
   {
    "duration": 4,
    "start_time": "2023-06-20T12:50:57.292Z"
   },
   {
    "duration": 15,
    "start_time": "2023-06-20T12:51:07.639Z"
   },
   {
    "duration": 15,
    "start_time": "2023-06-20T12:52:18.277Z"
   },
   {
    "duration": 10,
    "start_time": "2023-06-20T12:52:54.457Z"
   },
   {
    "duration": 4,
    "start_time": "2023-06-20T12:52:57.587Z"
   },
   {
    "duration": 82,
    "start_time": "2023-06-20T12:53:00.987Z"
   },
   {
    "duration": 14,
    "start_time": "2023-06-20T12:53:01.953Z"
   },
   {
    "duration": 83,
    "start_time": "2023-06-20T12:53:11.114Z"
   },
   {
    "duration": 36,
    "start_time": "2023-06-20T12:53:11.887Z"
   },
   {
    "duration": 11,
    "start_time": "2023-06-20T12:53:32.604Z"
   },
   {
    "duration": 9,
    "start_time": "2023-06-20T12:53:33.313Z"
   },
   {
    "duration": 8,
    "start_time": "2023-06-20T12:54:10.304Z"
   },
   {
    "duration": 37,
    "start_time": "2023-06-20T12:54:41.449Z"
   },
   {
    "duration": 64,
    "start_time": "2023-06-20T12:56:49.957Z"
   },
   {
    "duration": 77,
    "start_time": "2023-06-20T12:57:56.497Z"
   },
   {
    "duration": 62,
    "start_time": "2023-06-20T12:58:14.745Z"
   },
   {
    "duration": 102,
    "start_time": "2023-06-20T12:58:28.985Z"
   },
   {
    "duration": 62,
    "start_time": "2023-06-20T12:58:43.884Z"
   },
   {
    "duration": 58,
    "start_time": "2023-06-20T12:58:52.736Z"
   },
   {
    "duration": 47,
    "start_time": "2023-06-20T12:59:19.456Z"
   },
   {
    "duration": 88,
    "start_time": "2023-06-20T12:59:24.664Z"
   },
   {
    "duration": 56,
    "start_time": "2023-06-20T13:01:40.408Z"
   },
   {
    "duration": 43,
    "start_time": "2023-06-20T13:02:17.695Z"
   },
   {
    "duration": 44,
    "start_time": "2023-06-20T13:02:39.587Z"
   },
   {
    "duration": 7,
    "start_time": "2023-06-20T13:11:23.000Z"
   },
   {
    "duration": 10,
    "start_time": "2023-06-20T13:11:47.803Z"
   },
   {
    "duration": 10,
    "start_time": "2023-06-20T13:11:54.742Z"
   },
   {
    "duration": 13,
    "start_time": "2023-06-20T13:12:10.217Z"
   },
   {
    "duration": 8,
    "start_time": "2023-06-20T13:12:31.611Z"
   },
   {
    "duration": 11,
    "start_time": "2023-06-20T13:12:41.849Z"
   },
   {
    "duration": 1181,
    "start_time": "2023-06-20T13:15:26.196Z"
   },
   {
    "duration": 86,
    "start_time": "2023-06-20T13:15:27.379Z"
   },
   {
    "duration": 60,
    "start_time": "2023-06-20T13:15:27.470Z"
   },
   {
    "duration": 9,
    "start_time": "2023-06-20T13:15:27.532Z"
   },
   {
    "duration": 31,
    "start_time": "2023-06-20T13:15:27.542Z"
   },
   {
    "duration": 40,
    "start_time": "2023-06-20T13:15:27.580Z"
   },
   {
    "duration": 12,
    "start_time": "2023-06-20T13:15:27.622Z"
   },
   {
    "duration": 4,
    "start_time": "2023-06-20T13:15:43.458Z"
   },
   {
    "duration": 1175,
    "start_time": "2023-06-20T13:15:48.482Z"
   },
   {
    "duration": 97,
    "start_time": "2023-06-20T13:15:49.659Z"
   },
   {
    "duration": 51,
    "start_time": "2023-06-20T13:15:49.757Z"
   },
   {
    "duration": 8,
    "start_time": "2023-06-20T13:15:49.810Z"
   },
   {
    "duration": 23,
    "start_time": "2023-06-20T13:15:49.819Z"
   },
   {
    "duration": 52,
    "start_time": "2023-06-20T13:15:49.843Z"
   },
   {
    "duration": 12,
    "start_time": "2023-06-20T13:15:49.898Z"
   },
   {
    "duration": 1286,
    "start_time": "2023-06-20T13:16:04.027Z"
   },
   {
    "duration": 103,
    "start_time": "2023-06-20T13:16:05.315Z"
   },
   {
    "duration": 44,
    "start_time": "2023-06-20T13:16:05.420Z"
   },
   {
    "duration": 18,
    "start_time": "2023-06-20T13:16:05.466Z"
   },
   {
    "duration": 17,
    "start_time": "2023-06-20T13:16:05.488Z"
   },
   {
    "duration": 57,
    "start_time": "2023-06-20T13:16:05.507Z"
   },
   {
    "duration": 15,
    "start_time": "2023-06-20T13:16:05.566Z"
   },
   {
    "duration": 3,
    "start_time": "2023-06-20T13:16:14.902Z"
   },
   {
    "duration": 1173,
    "start_time": "2023-06-20T13:16:18.024Z"
   },
   {
    "duration": 87,
    "start_time": "2023-06-20T13:16:19.199Z"
   },
   {
    "duration": 50,
    "start_time": "2023-06-20T13:16:19.288Z"
   },
   {
    "duration": 7,
    "start_time": "2023-06-20T13:16:19.340Z"
   },
   {
    "duration": 6,
    "start_time": "2023-06-20T13:16:19.349Z"
   },
   {
    "duration": 42,
    "start_time": "2023-06-20T13:16:19.357Z"
   },
   {
    "duration": 13,
    "start_time": "2023-06-20T13:16:19.401Z"
   },
   {
    "duration": 15,
    "start_time": "2023-06-20T13:19:13.990Z"
   },
   {
    "duration": 13,
    "start_time": "2023-06-20T13:19:53.121Z"
   },
   {
    "duration": 13,
    "start_time": "2023-06-20T13:19:59.301Z"
   },
   {
    "duration": 37,
    "start_time": "2023-06-20T13:20:12.956Z"
   },
   {
    "duration": 11,
    "start_time": "2023-06-20T13:45:57.882Z"
   },
   {
    "duration": 600,
    "start_time": "2023-06-20T13:48:24.093Z"
   },
   {
    "duration": 514,
    "start_time": "2023-06-20T13:48:52.716Z"
   },
   {
    "duration": 613,
    "start_time": "2023-06-20T13:49:24.729Z"
   },
   {
    "duration": 656,
    "start_time": "2023-06-20T13:49:36.019Z"
   },
   {
    "duration": 505,
    "start_time": "2023-06-20T13:50:17.091Z"
   },
   {
    "duration": 332,
    "start_time": "2023-06-20T14:00:45.183Z"
   },
   {
    "duration": 241,
    "start_time": "2023-06-20T14:01:29.209Z"
   },
   {
    "duration": 246,
    "start_time": "2023-06-20T14:02:04.441Z"
   },
   {
    "duration": 268,
    "start_time": "2023-06-20T14:08:14.794Z"
   },
   {
    "duration": 378,
    "start_time": "2023-06-20T14:09:08.418Z"
   },
   {
    "duration": 340,
    "start_time": "2023-06-20T14:09:33.281Z"
   },
   {
    "duration": 391,
    "start_time": "2023-06-20T14:10:14.783Z"
   },
   {
    "duration": 385,
    "start_time": "2023-06-20T14:16:37.346Z"
   },
   {
    "duration": 398,
    "start_time": "2023-06-20T14:23:32.133Z"
   },
   {
    "duration": 408,
    "start_time": "2023-06-20T14:23:50.953Z"
   },
   {
    "duration": 375,
    "start_time": "2023-06-20T14:24:41.759Z"
   },
   {
    "duration": 120,
    "start_time": "2023-06-20T14:31:02.394Z"
   },
   {
    "duration": 16,
    "start_time": "2023-06-20T14:31:07.130Z"
   },
   {
    "duration": 19,
    "start_time": "2023-06-20T14:32:12.514Z"
   },
   {
    "duration": 16,
    "start_time": "2023-06-20T14:32:14.730Z"
   },
   {
    "duration": 1346,
    "start_time": "2023-06-20T14:32:43.907Z"
   },
   {
    "duration": 0,
    "start_time": "2023-06-20T14:32:45.255Z"
   },
   {
    "duration": 0,
    "start_time": "2023-06-20T14:32:45.256Z"
   },
   {
    "duration": 0,
    "start_time": "2023-06-20T14:32:45.257Z"
   },
   {
    "duration": 0,
    "start_time": "2023-06-20T14:32:45.259Z"
   },
   {
    "duration": 0,
    "start_time": "2023-06-20T14:32:45.260Z"
   },
   {
    "duration": 0,
    "start_time": "2023-06-20T14:32:45.267Z"
   },
   {
    "duration": 0,
    "start_time": "2023-06-20T14:32:45.269Z"
   },
   {
    "duration": 0,
    "start_time": "2023-06-20T14:32:45.272Z"
   },
   {
    "duration": 0,
    "start_time": "2023-06-20T14:32:45.273Z"
   },
   {
    "duration": 0,
    "start_time": "2023-06-20T14:32:45.274Z"
   },
   {
    "duration": 0,
    "start_time": "2023-06-20T14:32:45.275Z"
   },
   {
    "duration": 0,
    "start_time": "2023-06-20T14:32:45.276Z"
   },
   {
    "duration": 0,
    "start_time": "2023-06-20T14:32:45.276Z"
   },
   {
    "duration": 0,
    "start_time": "2023-06-20T14:32:45.278Z"
   },
   {
    "duration": 9,
    "start_time": "2023-06-20T14:33:30.163Z"
   },
   {
    "duration": 1195,
    "start_time": "2023-06-20T14:33:34.821Z"
   },
   {
    "duration": 88,
    "start_time": "2023-06-20T14:33:36.019Z"
   },
   {
    "duration": 51,
    "start_time": "2023-06-20T14:33:36.109Z"
   },
   {
    "duration": 20,
    "start_time": "2023-06-20T14:33:36.162Z"
   },
   {
    "duration": 34,
    "start_time": "2023-06-20T14:33:36.185Z"
   },
   {
    "duration": 80,
    "start_time": "2023-06-20T14:33:36.221Z"
   },
   {
    "duration": 25,
    "start_time": "2023-06-20T14:33:36.303Z"
   },
   {
    "duration": 34,
    "start_time": "2023-06-20T14:33:36.329Z"
   },
   {
    "duration": 673,
    "start_time": "2023-06-20T14:33:36.365Z"
   },
   {
    "duration": 245,
    "start_time": "2023-06-20T14:33:37.041Z"
   },
   {
    "duration": 341,
    "start_time": "2023-06-20T14:33:37.288Z"
   },
   {
    "duration": 269,
    "start_time": "2023-06-20T14:33:37.631Z"
   },
   {
    "duration": 350,
    "start_time": "2023-06-20T14:33:37.901Z"
   },
   {
    "duration": 137,
    "start_time": "2023-06-20T14:33:38.253Z"
   },
   {
    "duration": 0,
    "start_time": "2023-06-20T14:33:38.391Z"
   },
   {
    "duration": 14,
    "start_time": "2023-06-20T14:37:06.572Z"
   },
   {
    "duration": 7,
    "start_time": "2023-06-20T14:38:26.695Z"
   },
   {
    "duration": 152,
    "start_time": "2023-06-20T14:38:29.934Z"
   },
   {
    "duration": 141,
    "start_time": "2023-06-20T14:39:47.845Z"
   },
   {
    "duration": 6,
    "start_time": "2023-06-20T14:43:03.023Z"
   },
   {
    "duration": 243,
    "start_time": "2023-06-20T15:38:31.368Z"
   },
   {
    "duration": 164,
    "start_time": "2023-06-20T15:39:07.001Z"
   },
   {
    "duration": 77,
    "start_time": "2023-06-20T15:41:47.444Z"
   },
   {
    "duration": 6,
    "start_time": "2023-06-20T15:42:26.384Z"
   },
   {
    "duration": 121,
    "start_time": "2023-06-20T15:49:51.866Z"
   },
   {
    "duration": 1116,
    "start_time": "2023-06-20T15:52:48.778Z"
   },
   {
    "duration": 78,
    "start_time": "2023-06-20T15:52:49.896Z"
   },
   {
    "duration": 45,
    "start_time": "2023-06-20T15:52:49.975Z"
   },
   {
    "duration": 9,
    "start_time": "2023-06-20T15:52:50.022Z"
   },
   {
    "duration": 35,
    "start_time": "2023-06-20T15:52:50.032Z"
   },
   {
    "duration": 63,
    "start_time": "2023-06-20T15:52:50.069Z"
   },
   {
    "duration": 12,
    "start_time": "2023-06-20T15:52:50.133Z"
   },
   {
    "duration": 13,
    "start_time": "2023-06-20T15:52:50.146Z"
   },
   {
    "duration": 529,
    "start_time": "2023-06-20T15:52:50.160Z"
   },
   {
    "duration": 200,
    "start_time": "2023-06-20T15:52:50.691Z"
   },
   {
    "duration": 293,
    "start_time": "2023-06-20T15:52:50.893Z"
   },
   {
    "duration": 223,
    "start_time": "2023-06-20T15:52:51.187Z"
   },
   {
    "duration": 361,
    "start_time": "2023-06-20T15:52:51.412Z"
   },
   {
    "duration": 7,
    "start_time": "2023-06-20T15:52:51.775Z"
   },
   {
    "duration": 171,
    "start_time": "2023-06-20T15:52:51.784Z"
   },
   {
    "duration": 151,
    "start_time": "2023-06-20T15:52:51.957Z"
   },
   {
    "duration": 6,
    "start_time": "2023-06-20T15:52:52.110Z"
   },
   {
    "duration": 281,
    "start_time": "2023-06-20T15:52:52.117Z"
   },
   {
    "duration": 187,
    "start_time": "2023-06-20T15:52:52.400Z"
   },
   {
    "duration": 6,
    "start_time": "2023-06-20T15:52:52.589Z"
   },
   {
    "duration": 390,
    "start_time": "2023-06-20T15:52:52.598Z"
   },
   {
    "duration": 93,
    "start_time": "2023-06-20T15:54:00.403Z"
   },
   {
    "duration": 1187,
    "start_time": "2023-06-20T15:54:41.247Z"
   },
   {
    "duration": 79,
    "start_time": "2023-06-20T15:54:42.436Z"
   },
   {
    "duration": 48,
    "start_time": "2023-06-20T15:54:42.517Z"
   },
   {
    "duration": 9,
    "start_time": "2023-06-20T15:54:42.567Z"
   },
   {
    "duration": 32,
    "start_time": "2023-06-20T15:54:42.578Z"
   },
   {
    "duration": 50,
    "start_time": "2023-06-20T15:54:42.611Z"
   },
   {
    "duration": 13,
    "start_time": "2023-06-20T15:54:42.663Z"
   },
   {
    "duration": 22,
    "start_time": "2023-06-20T15:54:42.677Z"
   },
   {
    "duration": 620,
    "start_time": "2023-06-20T15:54:42.701Z"
   },
   {
    "duration": 230,
    "start_time": "2023-06-20T15:54:43.323Z"
   },
   {
    "duration": 324,
    "start_time": "2023-06-20T15:54:43.555Z"
   },
   {
    "duration": 307,
    "start_time": "2023-06-20T15:54:43.880Z"
   },
   {
    "duration": 332,
    "start_time": "2023-06-20T15:54:44.189Z"
   },
   {
    "duration": 6,
    "start_time": "2023-06-20T15:54:44.522Z"
   },
   {
    "duration": 141,
    "start_time": "2023-06-20T15:54:44.530Z"
   },
   {
    "duration": 130,
    "start_time": "2023-06-20T15:54:44.673Z"
   },
   {
    "duration": 6,
    "start_time": "2023-06-20T15:54:44.805Z"
   },
   {
    "duration": 246,
    "start_time": "2023-06-20T15:54:44.813Z"
   },
   {
    "duration": 153,
    "start_time": "2023-06-20T15:54:45.061Z"
   },
   {
    "duration": 5,
    "start_time": "2023-06-20T15:54:45.216Z"
   },
   {
    "duration": 327,
    "start_time": "2023-06-20T15:54:45.222Z"
   },
   {
    "duration": 26,
    "start_time": "2023-06-20T15:54:45.551Z"
   },
   {
    "duration": 4,
    "start_time": "2023-06-20T15:59:30.175Z"
   },
   {
    "duration": 4,
    "start_time": "2023-06-20T15:59:35.502Z"
   },
   {
    "duration": 1151,
    "start_time": "2023-06-20T15:59:40.939Z"
   },
   {
    "duration": 78,
    "start_time": "2023-06-20T15:59:42.092Z"
   },
   {
    "duration": 47,
    "start_time": "2023-06-20T15:59:42.172Z"
   },
   {
    "duration": 9,
    "start_time": "2023-06-20T15:59:42.221Z"
   },
   {
    "duration": 12,
    "start_time": "2023-06-20T15:59:42.231Z"
   },
   {
    "duration": 56,
    "start_time": "2023-06-20T15:59:42.244Z"
   },
   {
    "duration": 12,
    "start_time": "2023-06-20T15:59:42.302Z"
   },
   {
    "duration": 12,
    "start_time": "2023-06-20T15:59:42.316Z"
   },
   {
    "duration": 662,
    "start_time": "2023-06-20T15:59:42.330Z"
   },
   {
    "duration": 231,
    "start_time": "2023-06-20T15:59:42.995Z"
   },
   {
    "duration": 358,
    "start_time": "2023-06-20T15:59:43.227Z"
   },
   {
    "duration": 257,
    "start_time": "2023-06-20T15:59:43.586Z"
   },
   {
    "duration": 415,
    "start_time": "2023-06-20T15:59:43.845Z"
   },
   {
    "duration": 8,
    "start_time": "2023-06-20T15:59:44.267Z"
   },
   {
    "duration": 159,
    "start_time": "2023-06-20T15:59:44.276Z"
   },
   {
    "duration": 155,
    "start_time": "2023-06-20T15:59:44.437Z"
   },
   {
    "duration": 5,
    "start_time": "2023-06-20T15:59:44.594Z"
   },
   {
    "duration": 266,
    "start_time": "2023-06-20T15:59:44.601Z"
   },
   {
    "duration": 175,
    "start_time": "2023-06-20T15:59:44.869Z"
   },
   {
    "duration": 5,
    "start_time": "2023-06-20T15:59:45.046Z"
   },
   {
    "duration": 338,
    "start_time": "2023-06-20T15:59:45.052Z"
   },
   {
    "duration": 19,
    "start_time": "2023-06-20T15:59:45.392Z"
   },
   {
    "duration": 3,
    "start_time": "2023-06-20T15:59:45.413Z"
   },
   {
    "duration": 4,
    "start_time": "2023-06-20T15:59:53.252Z"
   },
   {
    "duration": 104,
    "start_time": "2023-06-20T16:00:04.325Z"
   },
   {
    "duration": 11,
    "start_time": "2023-06-20T16:07:27.788Z"
   },
   {
    "duration": 13,
    "start_time": "2023-06-20T16:12:20.096Z"
   },
   {
    "duration": 10,
    "start_time": "2023-06-20T16:14:50.002Z"
   },
   {
    "duration": 22,
    "start_time": "2023-06-20T16:14:52.046Z"
   },
   {
    "duration": 21,
    "start_time": "2023-06-20T16:15:19.872Z"
   },
   {
    "duration": 14,
    "start_time": "2023-06-20T16:18:39.096Z"
   },
   {
    "duration": 1121,
    "start_time": "2023-06-20T16:38:43.166Z"
   },
   {
    "duration": 79,
    "start_time": "2023-06-20T16:38:44.289Z"
   },
   {
    "duration": 54,
    "start_time": "2023-06-20T16:38:44.369Z"
   },
   {
    "duration": 9,
    "start_time": "2023-06-20T16:38:44.425Z"
   },
   {
    "duration": 34,
    "start_time": "2023-06-20T16:38:44.436Z"
   },
   {
    "duration": 49,
    "start_time": "2023-06-20T16:38:44.472Z"
   },
   {
    "duration": 13,
    "start_time": "2023-06-20T16:38:44.522Z"
   },
   {
    "duration": 29,
    "start_time": "2023-06-20T16:38:44.536Z"
   },
   {
    "duration": 124,
    "start_time": "2023-06-20T16:38:44.567Z"
   },
   {
    "duration": 0,
    "start_time": "2023-06-20T16:38:44.694Z"
   },
   {
    "duration": 0,
    "start_time": "2023-06-20T16:38:44.695Z"
   },
   {
    "duration": 0,
    "start_time": "2023-06-20T16:38:44.697Z"
   },
   {
    "duration": 0,
    "start_time": "2023-06-20T16:38:44.698Z"
   },
   {
    "duration": 0,
    "start_time": "2023-06-20T16:38:44.700Z"
   },
   {
    "duration": 0,
    "start_time": "2023-06-20T16:38:44.701Z"
   },
   {
    "duration": 0,
    "start_time": "2023-06-20T16:38:44.703Z"
   },
   {
    "duration": 0,
    "start_time": "2023-06-20T16:38:44.704Z"
   },
   {
    "duration": 0,
    "start_time": "2023-06-20T16:38:44.706Z"
   },
   {
    "duration": 0,
    "start_time": "2023-06-20T16:38:44.708Z"
   },
   {
    "duration": 0,
    "start_time": "2023-06-20T16:38:44.709Z"
   },
   {
    "duration": 0,
    "start_time": "2023-06-20T16:38:44.711Z"
   },
   {
    "duration": 0,
    "start_time": "2023-06-20T16:38:44.712Z"
   },
   {
    "duration": 0,
    "start_time": "2023-06-20T16:38:44.714Z"
   },
   {
    "duration": 0,
    "start_time": "2023-06-20T16:38:44.715Z"
   },
   {
    "duration": 0,
    "start_time": "2023-06-20T16:38:44.716Z"
   },
   {
    "duration": 0,
    "start_time": "2023-06-20T16:38:44.717Z"
   },
   {
    "duration": 0,
    "start_time": "2023-06-20T16:38:44.718Z"
   },
   {
    "duration": 30,
    "start_time": "2023-06-20T16:42:11.295Z"
   },
   {
    "duration": 8,
    "start_time": "2023-06-20T16:42:36.749Z"
   },
   {
    "duration": 1114,
    "start_time": "2023-06-20T16:43:46.414Z"
   },
   {
    "duration": 78,
    "start_time": "2023-06-20T16:43:47.530Z"
   },
   {
    "duration": 50,
    "start_time": "2023-06-20T16:43:47.610Z"
   },
   {
    "duration": 8,
    "start_time": "2023-06-20T16:43:47.663Z"
   },
   {
    "duration": 7,
    "start_time": "2023-06-20T16:43:47.672Z"
   },
   {
    "duration": 35,
    "start_time": "2023-06-20T16:43:47.681Z"
   },
   {
    "duration": 13,
    "start_time": "2023-06-20T16:43:47.717Z"
   },
   {
    "duration": 37,
    "start_time": "2023-06-20T16:43:47.731Z"
   },
   {
    "duration": 589,
    "start_time": "2023-06-20T16:43:47.770Z"
   },
   {
    "duration": 221,
    "start_time": "2023-06-20T16:43:48.361Z"
   },
   {
    "duration": 328,
    "start_time": "2023-06-20T16:43:48.583Z"
   },
   {
    "duration": 248,
    "start_time": "2023-06-20T16:43:48.913Z"
   },
   {
    "duration": 356,
    "start_time": "2023-06-20T16:43:49.163Z"
   },
   {
    "duration": 7,
    "start_time": "2023-06-20T16:43:49.521Z"
   },
   {
    "duration": 152,
    "start_time": "2023-06-20T16:43:49.529Z"
   },
   {
    "duration": 160,
    "start_time": "2023-06-20T16:43:49.682Z"
   },
   {
    "duration": 5,
    "start_time": "2023-06-20T16:43:49.844Z"
   },
   {
    "duration": 177,
    "start_time": "2023-06-20T16:43:49.851Z"
   },
   {
    "duration": 268,
    "start_time": "2023-06-20T16:43:50.030Z"
   },
   {
    "duration": 6,
    "start_time": "2023-06-20T16:43:50.300Z"
   },
   {
    "duration": 385,
    "start_time": "2023-06-20T16:43:50.308Z"
   },
   {
    "duration": 22,
    "start_time": "2023-06-20T16:43:50.695Z"
   },
   {
    "duration": 18,
    "start_time": "2023-06-20T16:43:50.720Z"
   },
   {
    "duration": 29,
    "start_time": "2023-06-20T16:43:50.740Z"
   },
   {
    "duration": 33,
    "start_time": "2023-06-20T16:43:50.771Z"
   },
   {
    "duration": 43,
    "start_time": "2023-06-20T16:43:50.806Z"
   },
   {
    "duration": 21,
    "start_time": "2023-06-20T16:43:50.851Z"
   },
   {
    "duration": 1135,
    "start_time": "2023-06-20T17:34:41.201Z"
   },
   {
    "duration": 75,
    "start_time": "2023-06-20T17:34:42.339Z"
   },
   {
    "duration": 59,
    "start_time": "2023-06-20T17:34:42.416Z"
   },
   {
    "duration": 12,
    "start_time": "2023-06-20T17:34:42.477Z"
   },
   {
    "duration": 9,
    "start_time": "2023-06-20T17:34:42.494Z"
   },
   {
    "duration": 74,
    "start_time": "2023-06-20T17:34:42.506Z"
   },
   {
    "duration": 16,
    "start_time": "2023-06-20T17:34:42.582Z"
   },
   {
    "duration": 13,
    "start_time": "2023-06-20T17:34:42.600Z"
   },
   {
    "duration": 685,
    "start_time": "2023-06-20T17:34:42.615Z"
   },
   {
    "duration": 299,
    "start_time": "2023-06-20T17:34:43.303Z"
   },
   {
    "duration": 398,
    "start_time": "2023-06-20T17:34:43.604Z"
   },
   {
    "duration": 282,
    "start_time": "2023-06-20T17:34:44.004Z"
   },
   {
    "duration": 359,
    "start_time": "2023-06-20T17:34:44.288Z"
   },
   {
    "duration": 10,
    "start_time": "2023-06-20T17:34:44.656Z"
   },
   {
    "duration": 167,
    "start_time": "2023-06-20T17:34:44.667Z"
   },
   {
    "duration": 184,
    "start_time": "2023-06-20T17:34:44.836Z"
   },
   {
    "duration": 6,
    "start_time": "2023-06-20T17:34:45.022Z"
   },
   {
    "duration": 228,
    "start_time": "2023-06-20T17:34:45.031Z"
   },
   {
    "duration": 335,
    "start_time": "2023-06-20T17:34:45.261Z"
   },
   {
    "duration": 6,
    "start_time": "2023-06-20T17:34:45.598Z"
   },
   {
    "duration": 401,
    "start_time": "2023-06-20T17:34:45.605Z"
   },
   {
    "duration": 30,
    "start_time": "2023-06-20T17:34:46.008Z"
   },
   {
    "duration": 26,
    "start_time": "2023-06-20T17:34:46.040Z"
   },
   {
    "duration": 27,
    "start_time": "2023-06-20T17:34:46.069Z"
   },
   {
    "duration": 11,
    "start_time": "2023-06-20T17:34:46.099Z"
   },
   {
    "duration": 53,
    "start_time": "2023-06-20T17:34:46.112Z"
   },
   {
    "duration": 20,
    "start_time": "2023-06-20T17:34:46.167Z"
   }
  ],
  "kernelspec": {
   "display_name": "Python 3 (ipykernel)",
   "language": "python",
   "name": "python3"
  },
  "language_info": {
   "codemirror_mode": {
    "name": "ipython",
    "version": 3
   },
   "file_extension": ".py",
   "mimetype": "text/x-python",
   "name": "python",
   "nbconvert_exporter": "python",
   "pygments_lexer": "ipython3",
   "version": "3.10.9"
  },
  "toc": {
   "base_numbering": 1,
   "nav_menu": {},
   "number_sections": true,
   "sideBar": true,
   "skip_h1_title": true,
   "title_cell": "Table of Contents",
   "title_sidebar": "Contents",
   "toc_cell": false,
   "toc_position": {},
   "toc_section_display": true,
   "toc_window_display": true
  }
 },
 "nbformat": 4,
 "nbformat_minor": 2
}
