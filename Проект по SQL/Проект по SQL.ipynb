{
 "cells": [
  {
   "cell_type": "markdown",
   "metadata": {},
   "source": [
    "# Проект по SQL"
   ]
  },
  {
   "cell_type": "markdown",
   "metadata": {},
   "source": [
    "**Описание проекта:**\n",
    "\n",
    "Коронавирус застал мир врасплох, изменив привычный порядок вещей. В свободное время жители городов больше не выходят на улицу, не посещают кафе и торговые центры. Зато стало больше времени для книг. Это заметили стартаперы — и бросились создавать приложения для тех, кто любит читать. Наша компания решила быть на волне и купила крупный сервис для чтения книг по подписке. \n",
    "\n",
    "**Цель исследования:**\n",
    "\n",
    "Путем анализа базы данных сформулировать ценностное предложение для нового продукта.\n",
    "\n",
    "\n",
    "**Задания:**\n",
    "1. Посчитайте, сколько книг вышло после 1 января 2000 года;\n",
    "2. Для каждой книги посчитайте количество обзоров и среднюю оценку;\n",
    "3. Определите издательство, которое выпустило наибольшее число книг толще 50 страниц — так вы исключите из анализа брошюры;\n",
    "4. Определите автора с самой высокой средней оценкой книг — учитывайте только книги с 50 и более оценками;\n",
    "5. Посчитайте среднее количество обзоров от пользователей, которые поставили больше 48 оценок.\n",
    "\n",
    "\n",
    "**Описание данных:**\n",
    "\n",
    "\n",
    "1. Таблица **books** cодержит данные о книгах:\n",
    "- `book_id` — идентификатор книги;\n",
    "- `author_id` — идентификатор автора;\n",
    "- `title` — название книги;\n",
    "- `num_pages` — количество страниц;\n",
    "- `publication_date` — дата публикации книги;\n",
    "- `publisher_id` — идентификатор издателя.\n",
    "2. Таблица **authors** cодержит данные об авторах:\n",
    "- `author_id` — идентификатор автора;\n",
    "- `author` — имя автора.\n",
    "3. Таблица **publishers** cодержит данные об издательствах:\n",
    "- `publisher_id` — идентификатор издательства;\n",
    "- `publisher` — название издательства;\n",
    "4. Таблица **ratings** cодержит данные о пользовательских оценках книг:\n",
    "- `rating_id` — идентификатор оценки;\n",
    "- `book_id` — идентификатор книги;\n",
    "- `username` — имя пользователя, оставившего оценку;\n",
    "- `rating` — оценка книги.\n",
    "5. Таблица **reviews** cодержит данные о пользовательских обзорах:\n",
    "- `review_id` — идентификатор обзора;\n",
    "- `book_id` — идентификатор книги;\n",
    "- `username` — имя автора обзора;\n",
    "- `text` — текст обзора."
   ]
  },
  {
   "cell_type": "markdown",
   "metadata": {},
   "source": [
    "## Загрузка и изучение данных"
   ]
  },
  {
   "cell_type": "code",
   "execution_count": 1,
   "metadata": {},
   "outputs": [],
   "source": [
    "# импортируем библиотеки\n",
    "import pandas as pd\n",
    "from sqlalchemy import text, create_engine"
   ]
  },
  {
   "cell_type": "code",
   "execution_count": 2,
   "metadata": {},
   "outputs": [],
   "source": [
    "# устанавливаем параметры\n",
    "db_config = {'user': 'praktikum_student', # имя пользователя\n",
    "'pwd': 'Sdf4$2;d-d30pp', # пароль\n",
    "'host': 'rc1b-wcoijxj3yxfsf3fs.mdb.yandexcloud.net',\n",
    "'port': 6432, # порт подключения\n",
    "'db': 'data-analyst-final-project-db'} # название базы данных\n",
    "connection_string = 'postgresql://{user}:{pwd}@{host}:{port}/{db}'.format(**db_config)\n",
    "# сохраняем коннектор\n",
    "engine = create_engine(connection_string, connect_args={'sslmode':'require'})\n",
    "# чтобы выполнить SQL-запрос, используем Pandas\n",
    "query = '''SELECT * FROM books LIMIT 5'''\n",
    "con=engine.connect()\n",
    "#pd.io.sql.read_sql(sql=text(query), con = con)"
   ]
  },
  {
   "cell_type": "markdown",
   "metadata": {},
   "source": [
    "### Изучим таблицы"
   ]
  },
  {
   "cell_type": "code",
   "execution_count": 3,
   "metadata": {},
   "outputs": [
    {
     "name": "stdout",
     "output_type": "stream",
     "text": [
      " Название таблицы: books\n"
     ]
    },
    {
     "data": {
      "text/html": [
       "<div>\n",
       "<style scoped>\n",
       "    .dataframe tbody tr th:only-of-type {\n",
       "        vertical-align: middle;\n",
       "    }\n",
       "\n",
       "    .dataframe tbody tr th {\n",
       "        vertical-align: top;\n",
       "    }\n",
       "\n",
       "    .dataframe thead th {\n",
       "        text-align: right;\n",
       "    }\n",
       "</style>\n",
       "<table border=\"1\" class=\"dataframe\">\n",
       "  <thead>\n",
       "    <tr style=\"text-align: right;\">\n",
       "      <th></th>\n",
       "      <th>book_id</th>\n",
       "      <th>author_id</th>\n",
       "      <th>title</th>\n",
       "      <th>num_pages</th>\n",
       "      <th>publication_date</th>\n",
       "      <th>publisher_id</th>\n",
       "    </tr>\n",
       "  </thead>\n",
       "  <tbody>\n",
       "    <tr>\n",
       "      <th>0</th>\n",
       "      <td>1</td>\n",
       "      <td>546</td>\n",
       "      <td>'Salem's Lot</td>\n",
       "      <td>594</td>\n",
       "      <td>2005-11-01</td>\n",
       "      <td>93</td>\n",
       "    </tr>\n",
       "    <tr>\n",
       "      <th>1</th>\n",
       "      <td>2</td>\n",
       "      <td>465</td>\n",
       "      <td>1 000 Places to See Before You Die</td>\n",
       "      <td>992</td>\n",
       "      <td>2003-05-22</td>\n",
       "      <td>336</td>\n",
       "    </tr>\n",
       "    <tr>\n",
       "      <th>2</th>\n",
       "      <td>3</td>\n",
       "      <td>407</td>\n",
       "      <td>13 Little Blue Envelopes (Little Blue Envelope...</td>\n",
       "      <td>322</td>\n",
       "      <td>2010-12-21</td>\n",
       "      <td>135</td>\n",
       "    </tr>\n",
       "    <tr>\n",
       "      <th>3</th>\n",
       "      <td>4</td>\n",
       "      <td>82</td>\n",
       "      <td>1491: New Revelations of the Americas Before C...</td>\n",
       "      <td>541</td>\n",
       "      <td>2006-10-10</td>\n",
       "      <td>309</td>\n",
       "    </tr>\n",
       "    <tr>\n",
       "      <th>4</th>\n",
       "      <td>5</td>\n",
       "      <td>125</td>\n",
       "      <td>1776</td>\n",
       "      <td>386</td>\n",
       "      <td>2006-07-04</td>\n",
       "      <td>268</td>\n",
       "    </tr>\n",
       "  </tbody>\n",
       "</table>\n",
       "</div>"
      ],
      "text/plain": [
       "   book_id  author_id                                              title  \\\n",
       "0        1        546                                       'Salem's Lot   \n",
       "1        2        465                 1 000 Places to See Before You Die   \n",
       "2        3        407  13 Little Blue Envelopes (Little Blue Envelope...   \n",
       "3        4         82  1491: New Revelations of the Americas Before C...   \n",
       "4        5        125                                               1776   \n",
       "\n",
       "   num_pages publication_date  publisher_id  \n",
       "0        594       2005-11-01            93  \n",
       "1        992       2003-05-22           336  \n",
       "2        322       2010-12-21           135  \n",
       "3        541       2006-10-10           309  \n",
       "4        386       2006-07-04           268  "
      ]
     },
     "metadata": {},
     "output_type": "display_data"
    },
    {
     "name": "stdout",
     "output_type": "stream",
     "text": [
      "<class 'pandas.core.frame.DataFrame'>\n",
      "RangeIndex: 1000 entries, 0 to 999\n",
      "Data columns (total 6 columns):\n",
      " #   Column            Non-Null Count  Dtype \n",
      "---  ------            --------------  ----- \n",
      " 0   book_id           1000 non-null   int64 \n",
      " 1   author_id         1000 non-null   int64 \n",
      " 2   title             1000 non-null   object\n",
      " 3   num_pages         1000 non-null   int64 \n",
      " 4   publication_date  1000 non-null   object\n",
      " 5   publisher_id      1000 non-null   int64 \n",
      "dtypes: int64(4), object(2)\n",
      "memory usage: 47.0+ KB\n"
     ]
    },
    {
     "data": {
      "text/plain": [
       "None"
      ]
     },
     "metadata": {},
     "output_type": "display_data"
    },
    {
     "name": "stdout",
     "output_type": "stream",
     "text": [
      " Название таблицы: authors\n"
     ]
    },
    {
     "data": {
      "text/html": [
       "<div>\n",
       "<style scoped>\n",
       "    .dataframe tbody tr th:only-of-type {\n",
       "        vertical-align: middle;\n",
       "    }\n",
       "\n",
       "    .dataframe tbody tr th {\n",
       "        vertical-align: top;\n",
       "    }\n",
       "\n",
       "    .dataframe thead th {\n",
       "        text-align: right;\n",
       "    }\n",
       "</style>\n",
       "<table border=\"1\" class=\"dataframe\">\n",
       "  <thead>\n",
       "    <tr style=\"text-align: right;\">\n",
       "      <th></th>\n",
       "      <th>author_id</th>\n",
       "      <th>author</th>\n",
       "    </tr>\n",
       "  </thead>\n",
       "  <tbody>\n",
       "    <tr>\n",
       "      <th>0</th>\n",
       "      <td>1</td>\n",
       "      <td>A.S. Byatt</td>\n",
       "    </tr>\n",
       "    <tr>\n",
       "      <th>1</th>\n",
       "      <td>2</td>\n",
       "      <td>Aesop/Laura Harris/Laura Gibbs</td>\n",
       "    </tr>\n",
       "    <tr>\n",
       "      <th>2</th>\n",
       "      <td>3</td>\n",
       "      <td>Agatha Christie</td>\n",
       "    </tr>\n",
       "    <tr>\n",
       "      <th>3</th>\n",
       "      <td>4</td>\n",
       "      <td>Alan Brennert</td>\n",
       "    </tr>\n",
       "    <tr>\n",
       "      <th>4</th>\n",
       "      <td>5</td>\n",
       "      <td>Alan Moore/David   Lloyd</td>\n",
       "    </tr>\n",
       "  </tbody>\n",
       "</table>\n",
       "</div>"
      ],
      "text/plain": [
       "   author_id                          author\n",
       "0          1                      A.S. Byatt\n",
       "1          2  Aesop/Laura Harris/Laura Gibbs\n",
       "2          3                 Agatha Christie\n",
       "3          4                   Alan Brennert\n",
       "4          5        Alan Moore/David   Lloyd"
      ]
     },
     "metadata": {},
     "output_type": "display_data"
    },
    {
     "name": "stdout",
     "output_type": "stream",
     "text": [
      "<class 'pandas.core.frame.DataFrame'>\n",
      "RangeIndex: 636 entries, 0 to 635\n",
      "Data columns (total 2 columns):\n",
      " #   Column     Non-Null Count  Dtype \n",
      "---  ------     --------------  ----- \n",
      " 0   author_id  636 non-null    int64 \n",
      " 1   author     636 non-null    object\n",
      "dtypes: int64(1), object(1)\n",
      "memory usage: 10.1+ KB\n"
     ]
    },
    {
     "data": {
      "text/plain": [
       "None"
      ]
     },
     "metadata": {},
     "output_type": "display_data"
    },
    {
     "name": "stdout",
     "output_type": "stream",
     "text": [
      " Название таблицы: publishers\n"
     ]
    },
    {
     "data": {
      "text/html": [
       "<div>\n",
       "<style scoped>\n",
       "    .dataframe tbody tr th:only-of-type {\n",
       "        vertical-align: middle;\n",
       "    }\n",
       "\n",
       "    .dataframe tbody tr th {\n",
       "        vertical-align: top;\n",
       "    }\n",
       "\n",
       "    .dataframe thead th {\n",
       "        text-align: right;\n",
       "    }\n",
       "</style>\n",
       "<table border=\"1\" class=\"dataframe\">\n",
       "  <thead>\n",
       "    <tr style=\"text-align: right;\">\n",
       "      <th></th>\n",
       "      <th>publisher_id</th>\n",
       "      <th>publisher</th>\n",
       "    </tr>\n",
       "  </thead>\n",
       "  <tbody>\n",
       "    <tr>\n",
       "      <th>0</th>\n",
       "      <td>1</td>\n",
       "      <td>Ace</td>\n",
       "    </tr>\n",
       "    <tr>\n",
       "      <th>1</th>\n",
       "      <td>2</td>\n",
       "      <td>Ace Book</td>\n",
       "    </tr>\n",
       "    <tr>\n",
       "      <th>2</th>\n",
       "      <td>3</td>\n",
       "      <td>Ace Books</td>\n",
       "    </tr>\n",
       "    <tr>\n",
       "      <th>3</th>\n",
       "      <td>4</td>\n",
       "      <td>Ace Hardcover</td>\n",
       "    </tr>\n",
       "    <tr>\n",
       "      <th>4</th>\n",
       "      <td>5</td>\n",
       "      <td>Addison Wesley Publishing Company</td>\n",
       "    </tr>\n",
       "  </tbody>\n",
       "</table>\n",
       "</div>"
      ],
      "text/plain": [
       "   publisher_id                          publisher\n",
       "0             1                                Ace\n",
       "1             2                           Ace Book\n",
       "2             3                          Ace Books\n",
       "3             4                      Ace Hardcover\n",
       "4             5  Addison Wesley Publishing Company"
      ]
     },
     "metadata": {},
     "output_type": "display_data"
    },
    {
     "name": "stdout",
     "output_type": "stream",
     "text": [
      "<class 'pandas.core.frame.DataFrame'>\n",
      "RangeIndex: 340 entries, 0 to 339\n",
      "Data columns (total 2 columns):\n",
      " #   Column        Non-Null Count  Dtype \n",
      "---  ------        --------------  ----- \n",
      " 0   publisher_id  340 non-null    int64 \n",
      " 1   publisher     340 non-null    object\n",
      "dtypes: int64(1), object(1)\n",
      "memory usage: 5.4+ KB\n"
     ]
    },
    {
     "data": {
      "text/plain": [
       "None"
      ]
     },
     "metadata": {},
     "output_type": "display_data"
    },
    {
     "name": "stdout",
     "output_type": "stream",
     "text": [
      " Название таблицы: ratings\n"
     ]
    },
    {
     "data": {
      "text/html": [
       "<div>\n",
       "<style scoped>\n",
       "    .dataframe tbody tr th:only-of-type {\n",
       "        vertical-align: middle;\n",
       "    }\n",
       "\n",
       "    .dataframe tbody tr th {\n",
       "        vertical-align: top;\n",
       "    }\n",
       "\n",
       "    .dataframe thead th {\n",
       "        text-align: right;\n",
       "    }\n",
       "</style>\n",
       "<table border=\"1\" class=\"dataframe\">\n",
       "  <thead>\n",
       "    <tr style=\"text-align: right;\">\n",
       "      <th></th>\n",
       "      <th>rating_id</th>\n",
       "      <th>book_id</th>\n",
       "      <th>username</th>\n",
       "      <th>rating</th>\n",
       "    </tr>\n",
       "  </thead>\n",
       "  <tbody>\n",
       "    <tr>\n",
       "      <th>0</th>\n",
       "      <td>1</td>\n",
       "      <td>1</td>\n",
       "      <td>ryanfranco</td>\n",
       "      <td>4</td>\n",
       "    </tr>\n",
       "    <tr>\n",
       "      <th>1</th>\n",
       "      <td>2</td>\n",
       "      <td>1</td>\n",
       "      <td>grantpatricia</td>\n",
       "      <td>2</td>\n",
       "    </tr>\n",
       "    <tr>\n",
       "      <th>2</th>\n",
       "      <td>3</td>\n",
       "      <td>1</td>\n",
       "      <td>brandtandrea</td>\n",
       "      <td>5</td>\n",
       "    </tr>\n",
       "    <tr>\n",
       "      <th>3</th>\n",
       "      <td>4</td>\n",
       "      <td>2</td>\n",
       "      <td>lorichen</td>\n",
       "      <td>3</td>\n",
       "    </tr>\n",
       "    <tr>\n",
       "      <th>4</th>\n",
       "      <td>5</td>\n",
       "      <td>2</td>\n",
       "      <td>mariokeller</td>\n",
       "      <td>2</td>\n",
       "    </tr>\n",
       "  </tbody>\n",
       "</table>\n",
       "</div>"
      ],
      "text/plain": [
       "   rating_id  book_id       username  rating\n",
       "0          1        1     ryanfranco       4\n",
       "1          2        1  grantpatricia       2\n",
       "2          3        1   brandtandrea       5\n",
       "3          4        2       lorichen       3\n",
       "4          5        2    mariokeller       2"
      ]
     },
     "metadata": {},
     "output_type": "display_data"
    },
    {
     "name": "stdout",
     "output_type": "stream",
     "text": [
      "<class 'pandas.core.frame.DataFrame'>\n",
      "RangeIndex: 6456 entries, 0 to 6455\n",
      "Data columns (total 4 columns):\n",
      " #   Column     Non-Null Count  Dtype \n",
      "---  ------     --------------  ----- \n",
      " 0   rating_id  6456 non-null   int64 \n",
      " 1   book_id    6456 non-null   int64 \n",
      " 2   username   6456 non-null   object\n",
      " 3   rating     6456 non-null   int64 \n",
      "dtypes: int64(3), object(1)\n",
      "memory usage: 201.9+ KB\n"
     ]
    },
    {
     "data": {
      "text/plain": [
       "None"
      ]
     },
     "metadata": {},
     "output_type": "display_data"
    },
    {
     "name": "stdout",
     "output_type": "stream",
     "text": [
      " Название таблицы: reviews\n"
     ]
    },
    {
     "data": {
      "text/html": [
       "<div>\n",
       "<style scoped>\n",
       "    .dataframe tbody tr th:only-of-type {\n",
       "        vertical-align: middle;\n",
       "    }\n",
       "\n",
       "    .dataframe tbody tr th {\n",
       "        vertical-align: top;\n",
       "    }\n",
       "\n",
       "    .dataframe thead th {\n",
       "        text-align: right;\n",
       "    }\n",
       "</style>\n",
       "<table border=\"1\" class=\"dataframe\">\n",
       "  <thead>\n",
       "    <tr style=\"text-align: right;\">\n",
       "      <th></th>\n",
       "      <th>review_id</th>\n",
       "      <th>book_id</th>\n",
       "      <th>username</th>\n",
       "      <th>text</th>\n",
       "    </tr>\n",
       "  </thead>\n",
       "  <tbody>\n",
       "    <tr>\n",
       "      <th>0</th>\n",
       "      <td>1</td>\n",
       "      <td>1</td>\n",
       "      <td>brandtandrea</td>\n",
       "      <td>Mention society tell send professor analysis. ...</td>\n",
       "    </tr>\n",
       "    <tr>\n",
       "      <th>1</th>\n",
       "      <td>2</td>\n",
       "      <td>1</td>\n",
       "      <td>ryanfranco</td>\n",
       "      <td>Foot glass pretty audience hit themselves. Amo...</td>\n",
       "    </tr>\n",
       "    <tr>\n",
       "      <th>2</th>\n",
       "      <td>3</td>\n",
       "      <td>2</td>\n",
       "      <td>lorichen</td>\n",
       "      <td>Listen treat keep worry. Miss husband tax but ...</td>\n",
       "    </tr>\n",
       "    <tr>\n",
       "      <th>3</th>\n",
       "      <td>4</td>\n",
       "      <td>3</td>\n",
       "      <td>johnsonamanda</td>\n",
       "      <td>Finally month interesting blue could nature cu...</td>\n",
       "    </tr>\n",
       "    <tr>\n",
       "      <th>4</th>\n",
       "      <td>5</td>\n",
       "      <td>3</td>\n",
       "      <td>scotttamara</td>\n",
       "      <td>Nation purpose heavy give wait song will. List...</td>\n",
       "    </tr>\n",
       "  </tbody>\n",
       "</table>\n",
       "</div>"
      ],
      "text/plain": [
       "   review_id  book_id       username  \\\n",
       "0          1        1   brandtandrea   \n",
       "1          2        1     ryanfranco   \n",
       "2          3        2       lorichen   \n",
       "3          4        3  johnsonamanda   \n",
       "4          5        3    scotttamara   \n",
       "\n",
       "                                                text  \n",
       "0  Mention society tell send professor analysis. ...  \n",
       "1  Foot glass pretty audience hit themselves. Amo...  \n",
       "2  Listen treat keep worry. Miss husband tax but ...  \n",
       "3  Finally month interesting blue could nature cu...  \n",
       "4  Nation purpose heavy give wait song will. List...  "
      ]
     },
     "metadata": {},
     "output_type": "display_data"
    },
    {
     "name": "stdout",
     "output_type": "stream",
     "text": [
      "<class 'pandas.core.frame.DataFrame'>\n",
      "RangeIndex: 2793 entries, 0 to 2792\n",
      "Data columns (total 4 columns):\n",
      " #   Column     Non-Null Count  Dtype \n",
      "---  ------     --------------  ----- \n",
      " 0   review_id  2793 non-null   int64 \n",
      " 1   book_id    2793 non-null   int64 \n",
      " 2   username   2793 non-null   object\n",
      " 3   text       2793 non-null   object\n",
      "dtypes: int64(2), object(2)\n",
      "memory usage: 87.4+ KB\n"
     ]
    },
    {
     "data": {
      "text/plain": [
       "None"
      ]
     },
     "metadata": {},
     "output_type": "display_data"
    }
   ],
   "source": [
    "for i in ['books', 'authors', 'publishers', 'ratings', 'reviews']:\n",
    "    print(f' Название таблицы:', i)\n",
    "    query = 'SELECT * FROM ' + i + ' LIMIT 5;'\n",
    "    display(pd.io.sql.read_sql(query, con = engine))\n",
    "    query = 'SELECT * FROM ' + i + ';'\n",
    "    display(pd.io.sql.read_sql(query, con = engine).info())"
   ]
  },
  {
   "cell_type": "markdown",
   "metadata": {},
   "source": [
    "- Таблицы содержат информацию о 1000 книгах, 636 авторах, 340 издательств, 6456 оценок книг и 2793 обзора."
   ]
  },
  {
   "cell_type": "markdown",
   "metadata": {},
   "source": [
    "## Задания"
   ]
  },
  {
   "cell_type": "markdown",
   "metadata": {},
   "source": [
    "### Посчитаем, сколько книг вышло после 1 января 2000 года"
   ]
  },
  {
   "cell_type": "code",
   "execution_count": 4,
   "metadata": {},
   "outputs": [
    {
     "data": {
      "text/html": [
       "<div>\n",
       "<style scoped>\n",
       "    .dataframe tbody tr th:only-of-type {\n",
       "        vertical-align: middle;\n",
       "    }\n",
       "\n",
       "    .dataframe tbody tr th {\n",
       "        vertical-align: top;\n",
       "    }\n",
       "\n",
       "    .dataframe thead th {\n",
       "        text-align: right;\n",
       "    }\n",
       "</style>\n",
       "<table border=\"1\" class=\"dataframe\">\n",
       "  <thead>\n",
       "    <tr style=\"text-align: right;\">\n",
       "      <th></th>\n",
       "      <th>Кол-во книг</th>\n",
       "    </tr>\n",
       "  </thead>\n",
       "  <tbody>\n",
       "    <tr>\n",
       "      <th>0</th>\n",
       "      <td>819</td>\n",
       "    </tr>\n",
       "  </tbody>\n",
       "</table>\n",
       "</div>"
      ],
      "text/plain": [
       "   Кол-во книг\n",
       "0          819"
      ]
     },
     "execution_count": 4,
     "metadata": {},
     "output_type": "execute_result"
    }
   ],
   "source": [
    "query = '''\n",
    "SELECT COUNT(book_id) \"Кол-во книг\"\n",
    "FROM books \n",
    "WHERE publication_date > '01-01-2000'\n",
    "'''\n",
    "pd.io.sql.read_sql(query, con = engine)"
   ]
  },
  {
   "cell_type": "markdown",
   "metadata": {},
   "source": [
    "- После 1 января 2000 года выпустили 819 книг"
   ]
  },
  {
   "cell_type": "markdown",
   "metadata": {},
   "source": [
    "### Для каждой книги посчитаем количество обзоров и среднюю оценку"
   ]
  },
  {
   "cell_type": "code",
   "execution_count": 5,
   "metadata": {},
   "outputs": [
    {
     "data": {
      "text/html": [
       "<div>\n",
       "<style scoped>\n",
       "    .dataframe tbody tr th:only-of-type {\n",
       "        vertical-align: middle;\n",
       "    }\n",
       "\n",
       "    .dataframe tbody tr th {\n",
       "        vertical-align: top;\n",
       "    }\n",
       "\n",
       "    .dataframe thead th {\n",
       "        text-align: right;\n",
       "    }\n",
       "</style>\n",
       "<table border=\"1\" class=\"dataframe\">\n",
       "  <thead>\n",
       "    <tr style=\"text-align: right;\">\n",
       "      <th></th>\n",
       "      <th>title</th>\n",
       "      <th>id</th>\n",
       "      <th>cnt_reviews</th>\n",
       "      <th>avg_rating</th>\n",
       "    </tr>\n",
       "  </thead>\n",
       "  <tbody>\n",
       "    <tr>\n",
       "      <th>0</th>\n",
       "      <td>Twilight (Twilight  #1)</td>\n",
       "      <td>948</td>\n",
       "      <td>7</td>\n",
       "      <td>3.662500</td>\n",
       "    </tr>\n",
       "    <tr>\n",
       "      <th>1</th>\n",
       "      <td>Water for Elephants</td>\n",
       "      <td>963</td>\n",
       "      <td>6</td>\n",
       "      <td>3.977273</td>\n",
       "    </tr>\n",
       "    <tr>\n",
       "      <th>2</th>\n",
       "      <td>The Glass Castle</td>\n",
       "      <td>734</td>\n",
       "      <td>6</td>\n",
       "      <td>4.206897</td>\n",
       "    </tr>\n",
       "    <tr>\n",
       "      <th>3</th>\n",
       "      <td>Harry Potter and the Prisoner of Azkaban (Harr...</td>\n",
       "      <td>302</td>\n",
       "      <td>6</td>\n",
       "      <td>4.414634</td>\n",
       "    </tr>\n",
       "    <tr>\n",
       "      <th>4</th>\n",
       "      <td>The Curious Incident of the Dog in the Night-Time</td>\n",
       "      <td>695</td>\n",
       "      <td>6</td>\n",
       "      <td>4.081081</td>\n",
       "    </tr>\n",
       "    <tr>\n",
       "      <th>...</th>\n",
       "      <td>...</td>\n",
       "      <td>...</td>\n",
       "      <td>...</td>\n",
       "      <td>...</td>\n",
       "    </tr>\n",
       "    <tr>\n",
       "      <th>995</th>\n",
       "      <td>Anne Rice's The Vampire Lestat: A Graphic Novel</td>\n",
       "      <td>83</td>\n",
       "      <td>0</td>\n",
       "      <td>3.666667</td>\n",
       "    </tr>\n",
       "    <tr>\n",
       "      <th>996</th>\n",
       "      <td>The Natural Way to Draw</td>\n",
       "      <td>808</td>\n",
       "      <td>0</td>\n",
       "      <td>3.000000</td>\n",
       "    </tr>\n",
       "    <tr>\n",
       "      <th>997</th>\n",
       "      <td>The Cat in the Hat and Other Dr. Seuss Favorites</td>\n",
       "      <td>672</td>\n",
       "      <td>0</td>\n",
       "      <td>5.000000</td>\n",
       "    </tr>\n",
       "    <tr>\n",
       "      <th>998</th>\n",
       "      <td>Essential Tales and Poems</td>\n",
       "      <td>221</td>\n",
       "      <td>0</td>\n",
       "      <td>4.000000</td>\n",
       "    </tr>\n",
       "    <tr>\n",
       "      <th>999</th>\n",
       "      <td>Disney's Beauty and the Beast (A Little Golden...</td>\n",
       "      <td>191</td>\n",
       "      <td>0</td>\n",
       "      <td>4.000000</td>\n",
       "    </tr>\n",
       "  </tbody>\n",
       "</table>\n",
       "<p>1000 rows × 4 columns</p>\n",
       "</div>"
      ],
      "text/plain": [
       "                                                 title   id  cnt_reviews  \\\n",
       "0                              Twilight (Twilight  #1)  948            7   \n",
       "1                                  Water for Elephants  963            6   \n",
       "2                                     The Glass Castle  734            6   \n",
       "3    Harry Potter and the Prisoner of Azkaban (Harr...  302            6   \n",
       "4    The Curious Incident of the Dog in the Night-Time  695            6   \n",
       "..                                                 ...  ...          ...   \n",
       "995    Anne Rice's The Vampire Lestat: A Graphic Novel   83            0   \n",
       "996                            The Natural Way to Draw  808            0   \n",
       "997   The Cat in the Hat and Other Dr. Seuss Favorites  672            0   \n",
       "998                          Essential Tales and Poems  221            0   \n",
       "999  Disney's Beauty and the Beast (A Little Golden...  191            0   \n",
       "\n",
       "     avg_rating  \n",
       "0      3.662500  \n",
       "1      3.977273  \n",
       "2      4.206897  \n",
       "3      4.414634  \n",
       "4      4.081081  \n",
       "..          ...  \n",
       "995    3.666667  \n",
       "996    3.000000  \n",
       "997    5.000000  \n",
       "998    4.000000  \n",
       "999    4.000000  \n",
       "\n",
       "[1000 rows x 4 columns]"
      ]
     },
     "execution_count": 5,
     "metadata": {},
     "output_type": "execute_result"
    }
   ],
   "source": [
    "query = '''\n",
    "SELECT \n",
    "    books.title AS title,\n",
    "    books.book_id AS id,\n",
    "    COUNT(DISTINCT reviews.review_id) cnt_reviews,\n",
    "    AVG(ratings.rating) avg_rating\n",
    "FROM\n",
    "    books\n",
    "LEFT JOIN reviews ON reviews.book_id = books.book_id\n",
    "LEFT JOIN ratings ON ratings.book_id = books.book_id\n",
    "\n",
    "GROUP BY\n",
    "    books.book_id\n",
    "ORDER BY \n",
    "    cnt_reviews DESC\n",
    "'''\n",
    "\n",
    "pd.io.sql.read_sql(query, con = engine)"
   ]
  },
  {
   "cell_type": "markdown",
   "metadata": {},
   "source": [
    "Мы вывели средний рейтинг и кол-во обзоров по каждой книге. \n",
    "- У книги `Twilight (Twilight #1)` больше всего обзоров, но рейтинг не самый высокий.\n",
    "- Так же есть книги, у которых нет обзоров и у них рейтинг не хуже, чем у тех книг, по которым есть обзор."
   ]
  },
  {
   "cell_type": "markdown",
   "metadata": {},
   "source": [
    "### Определим издательство, которое выпустило наибольшее число книг толще 50 страниц — так вы исключите из анализа брошюры"
   ]
  },
  {
   "cell_type": "code",
   "execution_count": 6,
   "metadata": {},
   "outputs": [
    {
     "data": {
      "text/html": [
       "<div>\n",
       "<style scoped>\n",
       "    .dataframe tbody tr th:only-of-type {\n",
       "        vertical-align: middle;\n",
       "    }\n",
       "\n",
       "    .dataframe tbody tr th {\n",
       "        vertical-align: top;\n",
       "    }\n",
       "\n",
       "    .dataframe thead th {\n",
       "        text-align: right;\n",
       "    }\n",
       "</style>\n",
       "<table border=\"1\" class=\"dataframe\">\n",
       "  <thead>\n",
       "    <tr style=\"text-align: right;\">\n",
       "      <th></th>\n",
       "      <th>publisher</th>\n",
       "      <th>cnt_books</th>\n",
       "    </tr>\n",
       "  </thead>\n",
       "  <tbody>\n",
       "    <tr>\n",
       "      <th>0</th>\n",
       "      <td>Penguin Books</td>\n",
       "      <td>42</td>\n",
       "    </tr>\n",
       "  </tbody>\n",
       "</table>\n",
       "</div>"
      ],
      "text/plain": [
       "       publisher  cnt_books\n",
       "0  Penguin Books         42"
      ]
     },
     "execution_count": 6,
     "metadata": {},
     "output_type": "execute_result"
    }
   ],
   "source": [
    "query = '''\n",
    "SELECT publishers.publisher, \n",
    "       COUNT(*) cnt_books\n",
    "FROM books\n",
    "LEFT JOIN publishers ON books.publisher_id = publishers.publisher_id\n",
    "WHERE num_pages > 50\n",
    "GROUP BY publishers.publisher\n",
    "ORDER BY COUNT(*) DESC\n",
    "LIMIT 1\n",
    "'''\n",
    "pd.io.sql.read_sql(query, con = engine)"
   ]
  },
  {
   "cell_type": "markdown",
   "metadata": {},
   "source": [
    "- Издательство `Penguin Books` выпустило наибольшее число книг толще 50 страниц - 42 шт."
   ]
  },
  {
   "cell_type": "markdown",
   "metadata": {},
   "source": [
    "### Определим автора с самой высокой средней оценкой книг — учитываем только книги с 50 и более оценками"
   ]
  },
  {
   "cell_type": "code",
   "execution_count": 7,
   "metadata": {},
   "outputs": [
    {
     "data": {
      "text/html": [
       "<div>\n",
       "<style scoped>\n",
       "    .dataframe tbody tr th:only-of-type {\n",
       "        vertical-align: middle;\n",
       "    }\n",
       "\n",
       "    .dataframe tbody tr th {\n",
       "        vertical-align: top;\n",
       "    }\n",
       "\n",
       "    .dataframe thead th {\n",
       "        text-align: right;\n",
       "    }\n",
       "</style>\n",
       "<table border=\"1\" class=\"dataframe\">\n",
       "  <thead>\n",
       "    <tr style=\"text-align: right;\">\n",
       "      <th></th>\n",
       "      <th>author</th>\n",
       "      <th>avg_rating</th>\n",
       "    </tr>\n",
       "  </thead>\n",
       "  <tbody>\n",
       "    <tr>\n",
       "      <th>0</th>\n",
       "      <td>J.K. Rowling/Mary GrandPré</td>\n",
       "      <td>4.287097</td>\n",
       "    </tr>\n",
       "  </tbody>\n",
       "</table>\n",
       "</div>"
      ],
      "text/plain": [
       "                       author  avg_rating\n",
       "0  J.K. Rowling/Mary GrandPré    4.287097"
      ]
     },
     "execution_count": 7,
     "metadata": {},
     "output_type": "execute_result"
    }
   ],
   "source": [
    "query = '''\n",
    "SELECT \n",
    "    authors.author,\n",
    "    AVG(ratings.rating) avg_rating\n",
    "FROM\n",
    "    ratings\n",
    "JOIN books ON books.book_id = ratings.book_id\n",
    "JOIN authors ON books.author_id = authors.author_id\n",
    "WHERE ratings.book_id IN \n",
    "      (\n",
    "       SELECT book_id\n",
    "       FROM ratings\n",
    "       GROUP BY book_id\n",
    "       HAVING COUNT(rating_id) >= 50\n",
    "       )\n",
    "GROUP BY authors.author\n",
    "ORDER BY AVG(ratings.rating) DESC\n",
    "LIMIT 1\n",
    "'''\n",
    "\n",
    "pd.io.sql.read_sql(query, con = engine)"
   ]
  },
  {
   "cell_type": "markdown",
   "metadata": {},
   "source": [
    "- Автор с самой высокой средней оценкой книг - `J.K. Rowling/Mary GrandPré` "
   ]
  },
  {
   "cell_type": "markdown",
   "metadata": {},
   "source": [
    "### Посчитаем среднее количество обзоров от пользователей, которые поставили больше 48 оценок"
   ]
  },
  {
   "cell_type": "code",
   "execution_count": 8,
   "metadata": {},
   "outputs": [
    {
     "data": {
      "text/html": [
       "<div>\n",
       "<style scoped>\n",
       "    .dataframe tbody tr th:only-of-type {\n",
       "        vertical-align: middle;\n",
       "    }\n",
       "\n",
       "    .dataframe tbody tr th {\n",
       "        vertical-align: top;\n",
       "    }\n",
       "\n",
       "    .dataframe thead th {\n",
       "        text-align: right;\n",
       "    }\n",
       "</style>\n",
       "<table border=\"1\" class=\"dataframe\">\n",
       "  <thead>\n",
       "    <tr style=\"text-align: right;\">\n",
       "      <th></th>\n",
       "      <th>avg</th>\n",
       "    </tr>\n",
       "  </thead>\n",
       "  <tbody>\n",
       "    <tr>\n",
       "      <th>0</th>\n",
       "      <td>24.0</td>\n",
       "    </tr>\n",
       "  </tbody>\n",
       "</table>\n",
       "</div>"
      ],
      "text/plain": [
       "    avg\n",
       "0  24.0"
      ]
     },
     "execution_count": 8,
     "metadata": {},
     "output_type": "execute_result"
    }
   ],
   "source": [
    "query = '''\n",
    "SELECT AVG(count_reviews)\n",
    "FROM (\n",
    "      SELECT COUNT(review_id) count_reviews\n",
    "      FROM reviews\n",
    "      WHERE username IN\n",
    "            (\n",
    "            SELECT username\n",
    "            FROM ratings\n",
    "            GROUP BY username\n",
    "            HAVING COUNT(rating_id) > 48\n",
    "            )\n",
    "      GROUP BY username) reviews\n",
    "'''\n",
    "pd.io.sql.read_sql(query, con = engine)"
   ]
  },
  {
   "cell_type": "markdown",
   "metadata": {},
   "source": [
    "- В среднем 24 обзора от пользователей, которые поставили больше 48 оценок"
   ]
  },
  {
   "cell_type": "markdown",
   "metadata": {},
   "source": [
    "## Общий вывод"
   ]
  },
  {
   "cell_type": "markdown",
   "metadata": {},
   "source": [
    "- После 1 января 2000 года выпустили 819 книг\n",
    "- У книги Twilight (Twilight #1) больше всего обзоров, но рейтинг не самый высокий\n",
    "- Так же есть книги, у которых нет обзоров и у них рейтинг не хуже, чем у тех книг, по которым есть обзор\n",
    "- Издательство Penguin Books выпустило наибольшее число книг толще 50 страниц - 42 шт\n",
    "- Автор с самой высокой средней оценкой книг - J.K. Rowling/Mary GrandPré\n",
    "- В среднем 24 обзора от пользователей, которые поставили больше 48 оценок"
   ]
  }
 ],
 "metadata": {
  "ExecuteTimeLog": [
   {
    "duration": 568,
    "start_time": "2023-08-25T07:47:12.833Z"
   },
   {
    "duration": 10931,
    "start_time": "2023-08-25T07:47:38.364Z"
   },
   {
    "duration": 74,
    "start_time": "2023-08-25T08:33:07.622Z"
   },
   {
    "duration": 71,
    "start_time": "2023-08-25T08:33:42.256Z"
   },
   {
    "duration": 187,
    "start_time": "2023-08-25T08:34:27.350Z"
   },
   {
    "duration": 157,
    "start_time": "2023-08-25T08:36:23.298Z"
   },
   {
    "duration": 219,
    "start_time": "2023-08-25T08:37:06.212Z"
   },
   {
    "duration": 16,
    "start_time": "2023-08-25T09:04:59.952Z"
   },
   {
    "duration": 210,
    "start_time": "2023-08-25T09:05:22.825Z"
   },
   {
    "duration": 12,
    "start_time": "2023-08-25T09:05:41.217Z"
   },
   {
    "duration": 26,
    "start_time": "2023-08-25T09:06:05.246Z"
   },
   {
    "duration": 35,
    "start_time": "2023-08-25T09:08:00.192Z"
   },
   {
    "duration": 3,
    "start_time": "2023-08-25T09:13:24.687Z"
   },
   {
    "duration": 60,
    "start_time": "2023-08-25T09:13:33.756Z"
   },
   {
    "duration": 115,
    "start_time": "2023-08-25T09:16:34.915Z"
   },
   {
    "duration": 106,
    "start_time": "2023-08-25T09:17:24.932Z"
   },
   {
    "duration": 107,
    "start_time": "2023-08-25T09:18:45.149Z"
   },
   {
    "duration": 2,
    "start_time": "2023-08-25T09:20:45.093Z"
   },
   {
    "duration": 135,
    "start_time": "2023-08-25T09:20:57.782Z"
   },
   {
    "duration": 514,
    "start_time": "2023-08-25T09:21:07.906Z"
   },
   {
    "duration": 11075,
    "start_time": "2023-08-25T09:21:08.423Z"
   },
   {
    "duration": 216,
    "start_time": "2023-08-25T09:21:19.500Z"
   },
   {
    "duration": 12,
    "start_time": "2023-08-25T09:21:19.718Z"
   },
   {
    "duration": 4,
    "start_time": "2023-08-25T09:21:19.731Z"
   },
   {
    "duration": 67,
    "start_time": "2023-08-25T09:21:19.736Z"
   },
   {
    "duration": 3,
    "start_time": "2023-08-25T09:21:44.101Z"
   },
   {
    "duration": 39,
    "start_time": "2023-08-25T09:21:57.062Z"
   },
   {
    "duration": 37,
    "start_time": "2023-08-25T09:23:24.559Z"
   },
   {
    "duration": 32,
    "start_time": "2023-08-25T09:24:47.469Z"
   },
   {
    "duration": 36,
    "start_time": "2023-08-25T09:25:16.798Z"
   },
   {
    "duration": 45,
    "start_time": "2023-08-25T09:31:45.192Z"
   },
   {
    "duration": 47,
    "start_time": "2023-08-25T09:31:52.459Z"
   },
   {
    "duration": 575,
    "start_time": "2023-08-25T09:32:23.583Z"
   },
   {
    "duration": 10286,
    "start_time": "2023-08-25T09:32:24.161Z"
   },
   {
    "duration": 172,
    "start_time": "2023-08-25T09:32:34.449Z"
   },
   {
    "duration": 14,
    "start_time": "2023-08-25T09:32:34.624Z"
   },
   {
    "duration": 36,
    "start_time": "2023-08-25T09:32:34.639Z"
   },
   {
    "duration": 546,
    "start_time": "2023-08-25T09:32:49.247Z"
   },
   {
    "duration": 9550,
    "start_time": "2023-08-25T09:32:49.796Z"
   },
   {
    "duration": 190,
    "start_time": "2023-08-25T09:32:59.348Z"
   },
   {
    "duration": 11,
    "start_time": "2023-08-25T09:32:59.540Z"
   },
   {
    "duration": 38,
    "start_time": "2023-08-25T09:32:59.553Z"
   },
   {
    "duration": 195,
    "start_time": "2023-08-25T09:33:39.506Z"
   },
   {
    "duration": 139,
    "start_time": "2023-08-25T09:33:52.663Z"
   },
   {
    "duration": 38,
    "start_time": "2023-08-25T09:34:00.849Z"
   },
   {
    "duration": 5,
    "start_time": "2023-08-25T09:34:27.616Z"
   },
   {
    "duration": 547,
    "start_time": "2023-08-25T09:34:39.832Z"
   },
   {
    "duration": 10418,
    "start_time": "2023-08-25T09:34:40.381Z"
   },
   {
    "duration": 197,
    "start_time": "2023-08-25T09:34:50.800Z"
   },
   {
    "duration": 11,
    "start_time": "2023-08-25T09:34:50.999Z"
   },
   {
    "duration": 29,
    "start_time": "2023-08-25T09:34:51.012Z"
   },
   {
    "duration": 54,
    "start_time": "2023-08-25T09:34:51.043Z"
   },
   {
    "duration": 44,
    "start_time": "2023-08-25T09:35:08.225Z"
   },
   {
    "duration": 34,
    "start_time": "2023-08-25T09:35:55.422Z"
   },
   {
    "duration": 29,
    "start_time": "2023-08-25T09:36:28.094Z"
   },
   {
    "duration": 34,
    "start_time": "2023-08-25T09:36:37.839Z"
   },
   {
    "duration": 214,
    "start_time": "2023-08-25T09:36:57.301Z"
   },
   {
    "duration": 28,
    "start_time": "2023-08-25T09:37:08.666Z"
   },
   {
    "duration": 11,
    "start_time": "2023-08-25T09:38:16.410Z"
   },
   {
    "duration": 31,
    "start_time": "2023-08-25T09:38:17.851Z"
   },
   {
    "duration": 116,
    "start_time": "2023-08-25T09:39:38.972Z"
   },
   {
    "duration": 168,
    "start_time": "2023-08-25T09:39:54.801Z"
   },
   {
    "duration": 224,
    "start_time": "2023-08-25T09:40:01.854Z"
   },
   {
    "duration": 108,
    "start_time": "2023-08-25T09:40:09.299Z"
   },
   {
    "duration": 111,
    "start_time": "2023-08-25T09:41:26.249Z"
   },
   {
    "duration": 38,
    "start_time": "2023-08-25T09:42:47.059Z"
   },
   {
    "duration": 29,
    "start_time": "2023-08-25T09:42:59.204Z"
   },
   {
    "duration": 125,
    "start_time": "2023-08-25T09:43:05.772Z"
   },
   {
    "duration": 31,
    "start_time": "2023-08-25T09:43:14.540Z"
   },
   {
    "duration": 34,
    "start_time": "2023-08-25T09:43:25.439Z"
   },
   {
    "duration": 513,
    "start_time": "2023-08-25T09:43:33.209Z"
   },
   {
    "duration": 13314,
    "start_time": "2023-08-25T09:43:33.724Z"
   },
   {
    "duration": 219,
    "start_time": "2023-08-25T09:43:47.040Z"
   },
   {
    "duration": 22,
    "start_time": "2023-08-25T09:43:47.261Z"
   },
   {
    "duration": 31,
    "start_time": "2023-08-25T09:43:47.285Z"
   },
   {
    "duration": 183,
    "start_time": "2023-08-25T09:43:57.533Z"
   },
   {
    "duration": 124,
    "start_time": "2023-08-25T09:45:56.258Z"
   },
   {
    "duration": 518,
    "start_time": "2023-08-25T09:46:05.806Z"
   },
   {
    "duration": 10326,
    "start_time": "2023-08-25T09:46:06.326Z"
   },
   {
    "duration": 179,
    "start_time": "2023-08-25T09:46:16.654Z"
   },
   {
    "duration": 13,
    "start_time": "2023-08-25T09:46:16.835Z"
   },
   {
    "duration": 72,
    "start_time": "2023-08-25T09:46:16.858Z"
   },
   {
    "duration": 0,
    "start_time": "2023-08-25T09:46:16.932Z"
   },
   {
    "duration": 36,
    "start_time": "2023-08-25T09:46:35.214Z"
   },
   {
    "duration": 123,
    "start_time": "2023-08-25T09:48:37.278Z"
   },
   {
    "duration": 43,
    "start_time": "2023-08-25T09:49:27.173Z"
   },
   {
    "duration": 111,
    "start_time": "2023-08-25T09:49:39.037Z"
   },
   {
    "duration": 109,
    "start_time": "2023-08-25T09:49:49.886Z"
   },
   {
    "duration": 51,
    "start_time": "2023-08-25T09:50:13.587Z"
   },
   {
    "duration": 29,
    "start_time": "2023-08-25T09:50:20.708Z"
   },
   {
    "duration": 122,
    "start_time": "2023-08-25T09:50:47.249Z"
   },
   {
    "duration": 37,
    "start_time": "2023-08-25T09:51:03.564Z"
   },
   {
    "duration": 31,
    "start_time": "2023-08-25T09:51:26.025Z"
   },
   {
    "duration": 32,
    "start_time": "2023-08-25T09:51:53.419Z"
   },
   {
    "duration": 37,
    "start_time": "2023-08-25T09:53:02.067Z"
   },
   {
    "duration": 31,
    "start_time": "2023-08-25T09:53:08.593Z"
   },
   {
    "duration": 28,
    "start_time": "2023-08-25T09:53:58.067Z"
   },
   {
    "duration": 31,
    "start_time": "2023-08-25T09:55:11.983Z"
   },
   {
    "duration": 36,
    "start_time": "2023-08-25T09:55:35.672Z"
   },
   {
    "duration": 32,
    "start_time": "2023-08-25T09:55:43.190Z"
   },
   {
    "duration": 28,
    "start_time": "2023-08-25T09:56:13.577Z"
   },
   {
    "duration": 29,
    "start_time": "2023-08-25T09:57:14.896Z"
   },
   {
    "duration": 13,
    "start_time": "2023-08-25T10:03:11.747Z"
   },
   {
    "duration": 13,
    "start_time": "2023-08-25T10:03:50.877Z"
   },
   {
    "duration": 28,
    "start_time": "2023-08-25T10:08:43.515Z"
   },
   {
    "duration": 17,
    "start_time": "2023-08-25T10:13:54.352Z"
   },
   {
    "duration": 12,
    "start_time": "2023-08-25T10:28:28.884Z"
   },
   {
    "duration": 14,
    "start_time": "2023-08-25T10:30:08.459Z"
   },
   {
    "duration": 15,
    "start_time": "2023-08-25T10:30:36.518Z"
   },
   {
    "duration": 16,
    "start_time": "2023-08-25T10:31:01.723Z"
   },
   {
    "duration": 19,
    "start_time": "2023-08-25T10:31:09.926Z"
   },
   {
    "duration": 18,
    "start_time": "2023-08-25T10:31:31.799Z"
   },
   {
    "duration": 16,
    "start_time": "2023-08-25T10:32:50.864Z"
   },
   {
    "duration": 17,
    "start_time": "2023-08-25T10:33:00.812Z"
   },
   {
    "duration": 32,
    "start_time": "2023-08-25T10:33:33.685Z"
   },
   {
    "duration": 107,
    "start_time": "2023-08-25T10:36:48.066Z"
   },
   {
    "duration": 117,
    "start_time": "2023-08-25T10:37:12.547Z"
   },
   {
    "duration": 17,
    "start_time": "2023-08-25T10:37:51.393Z"
   },
   {
    "duration": 13,
    "start_time": "2023-08-25T10:38:56.468Z"
   },
   {
    "duration": 16,
    "start_time": "2023-08-25T10:40:34.066Z"
   },
   {
    "duration": 13,
    "start_time": "2023-08-25T10:41:00.418Z"
   },
   {
    "duration": 100,
    "start_time": "2023-08-25T10:41:19.597Z"
   },
   {
    "duration": 121,
    "start_time": "2023-08-25T10:43:51.431Z"
   },
   {
    "duration": 18,
    "start_time": "2023-08-25T10:43:54.337Z"
   },
   {
    "duration": 15,
    "start_time": "2023-08-25T10:45:23.191Z"
   },
   {
    "duration": 125,
    "start_time": "2023-08-25T10:46:57.569Z"
   },
   {
    "duration": 15,
    "start_time": "2023-08-25T10:47:21.595Z"
   },
   {
    "duration": 126,
    "start_time": "2023-08-25T10:47:35.140Z"
   },
   {
    "duration": 16,
    "start_time": "2023-08-25T10:47:43.349Z"
   },
   {
    "duration": 17,
    "start_time": "2023-08-25T10:48:14.397Z"
   },
   {
    "duration": 116,
    "start_time": "2023-08-25T10:48:33.913Z"
   },
   {
    "duration": 15,
    "start_time": "2023-08-25T10:49:00.562Z"
   },
   {
    "duration": 15,
    "start_time": "2023-08-25T10:49:16.027Z"
   },
   {
    "duration": 113,
    "start_time": "2023-08-25T10:49:22.907Z"
   },
   {
    "duration": 108,
    "start_time": "2023-08-25T10:49:28.415Z"
   },
   {
    "duration": 157,
    "start_time": "2023-08-25T10:50:47.221Z"
   },
   {
    "duration": 14,
    "start_time": "2023-08-25T10:51:49.332Z"
   },
   {
    "duration": 16,
    "start_time": "2023-08-25T10:52:10.071Z"
   },
   {
    "duration": 15,
    "start_time": "2023-08-25T10:52:25.453Z"
   },
   {
    "duration": 14,
    "start_time": "2023-08-25T10:53:55.752Z"
   },
   {
    "duration": 842,
    "start_time": "2023-08-25T10:57:34.263Z"
   },
   {
    "duration": 10277,
    "start_time": "2023-08-25T10:57:35.159Z"
   },
   {
    "duration": 166,
    "start_time": "2023-08-25T10:57:45.438Z"
   },
   {
    "duration": 12,
    "start_time": "2023-08-25T10:57:45.606Z"
   },
   {
    "duration": 45,
    "start_time": "2023-08-25T10:57:45.619Z"
   },
   {
    "duration": 14,
    "start_time": "2023-08-25T10:57:45.666Z"
   },
   {
    "duration": 21,
    "start_time": "2023-08-25T10:57:45.682Z"
   },
   {
    "duration": 18,
    "start_time": "2023-08-25T10:57:45.705Z"
   },
   {
    "duration": 19,
    "start_time": "2023-08-25T11:03:22.324Z"
   },
   {
    "duration": 17,
    "start_time": "2023-08-25T11:03:28.474Z"
   },
   {
    "duration": 17,
    "start_time": "2023-08-25T11:03:29.104Z"
   },
   {
    "duration": 246,
    "start_time": "2023-08-25T11:04:04.085Z"
   },
   {
    "duration": 16,
    "start_time": "2023-08-25T11:04:08.345Z"
   },
   {
    "duration": 119,
    "start_time": "2023-08-25T11:05:07.270Z"
   },
   {
    "duration": 108,
    "start_time": "2023-08-25T11:05:52.851Z"
   },
   {
    "duration": 106,
    "start_time": "2023-08-25T11:06:07.382Z"
   },
   {
    "duration": 132,
    "start_time": "2023-08-25T11:06:17.413Z"
   },
   {
    "duration": 108,
    "start_time": "2023-08-25T11:06:21.814Z"
   },
   {
    "duration": 114,
    "start_time": "2023-08-25T11:06:36.845Z"
   },
   {
    "duration": 148,
    "start_time": "2023-08-25T11:06:42.770Z"
   },
   {
    "duration": 103,
    "start_time": "2023-08-25T11:07:05.879Z"
   },
   {
    "duration": 106,
    "start_time": "2023-08-25T11:07:48.291Z"
   },
   {
    "duration": 11,
    "start_time": "2023-08-25T11:08:25.999Z"
   },
   {
    "duration": 12,
    "start_time": "2023-08-25T11:08:37.962Z"
   },
   {
    "duration": 17,
    "start_time": "2023-08-25T11:10:03.213Z"
   },
   {
    "duration": 13,
    "start_time": "2023-08-25T11:10:31.292Z"
   },
   {
    "duration": 17,
    "start_time": "2023-08-25T11:11:58.323Z"
   },
   {
    "duration": 17,
    "start_time": "2023-08-25T11:12:54.697Z"
   },
   {
    "duration": 518,
    "start_time": "2023-08-25T11:13:09.806Z"
   },
   {
    "duration": 9587,
    "start_time": "2023-08-25T11:13:10.327Z"
   },
   {
    "duration": 223,
    "start_time": "2023-08-25T11:13:19.916Z"
   },
   {
    "duration": 29,
    "start_time": "2023-08-25T11:13:20.142Z"
   },
   {
    "duration": 33,
    "start_time": "2023-08-25T11:13:20.173Z"
   },
   {
    "duration": 14,
    "start_time": "2023-08-25T11:13:20.208Z"
   },
   {
    "duration": 17,
    "start_time": "2023-08-25T11:13:20.224Z"
   },
   {
    "duration": 13,
    "start_time": "2023-08-25T11:13:20.242Z"
   },
   {
    "duration": 559,
    "start_time": "2023-08-25T11:15:15.246Z"
   },
   {
    "duration": 10474,
    "start_time": "2023-08-25T11:15:15.807Z"
   },
   {
    "duration": 199,
    "start_time": "2023-08-25T11:15:26.283Z"
   },
   {
    "duration": 10,
    "start_time": "2023-08-25T11:15:26.485Z"
   },
   {
    "duration": 35,
    "start_time": "2023-08-25T11:15:26.497Z"
   },
   {
    "duration": 13,
    "start_time": "2023-08-25T11:15:26.534Z"
   },
   {
    "duration": 16,
    "start_time": "2023-08-25T11:15:26.548Z"
   },
   {
    "duration": 13,
    "start_time": "2023-08-25T11:15:26.566Z"
   },
   {
    "duration": 29,
    "start_time": "2023-08-25T11:17:13.524Z"
   },
   {
    "duration": 30,
    "start_time": "2023-08-25T11:17:39.703Z"
   },
   {
    "duration": 172,
    "start_time": "2023-08-25T11:18:04.951Z"
   },
   {
    "duration": 107,
    "start_time": "2023-08-25T11:18:09.743Z"
   },
   {
    "duration": 37,
    "start_time": "2023-08-25T11:18:21.236Z"
   },
   {
    "duration": 29,
    "start_time": "2023-08-25T11:19:48.636Z"
   },
   {
    "duration": 31,
    "start_time": "2023-08-25T11:20:02.331Z"
   },
   {
    "duration": 36,
    "start_time": "2023-08-25T11:20:13.898Z"
   },
   {
    "duration": 30,
    "start_time": "2023-08-25T11:20:29.887Z"
   },
   {
    "duration": 29,
    "start_time": "2023-08-25T11:21:51.044Z"
   },
   {
    "duration": 500,
    "start_time": "2023-08-25T11:22:08.402Z"
   },
   {
    "duration": 9842,
    "start_time": "2023-08-25T11:22:08.904Z"
   },
   {
    "duration": 166,
    "start_time": "2023-08-25T11:22:18.748Z"
   },
   {
    "duration": 10,
    "start_time": "2023-08-25T11:22:18.916Z"
   },
   {
    "duration": 30,
    "start_time": "2023-08-25T11:22:18.928Z"
   },
   {
    "duration": 13,
    "start_time": "2023-08-25T11:22:18.960Z"
   },
   {
    "duration": 15,
    "start_time": "2023-08-25T11:22:18.974Z"
   },
   {
    "duration": 22,
    "start_time": "2023-08-25T11:22:18.991Z"
   },
   {
    "duration": 17,
    "start_time": "2023-08-25T11:25:14.973Z"
   },
   {
    "duration": 20,
    "start_time": "2023-08-25T11:25:19.952Z"
   },
   {
    "duration": 518,
    "start_time": "2023-08-25T11:26:08.715Z"
   },
   {
    "duration": 11142,
    "start_time": "2023-08-25T11:26:09.235Z"
   },
   {
    "duration": 177,
    "start_time": "2023-08-25T11:26:20.379Z"
   },
   {
    "duration": 10,
    "start_time": "2023-08-25T11:26:20.558Z"
   },
   {
    "duration": 49,
    "start_time": "2023-08-25T11:26:20.570Z"
   },
   {
    "duration": 12,
    "start_time": "2023-08-25T11:26:20.620Z"
   },
   {
    "duration": 27,
    "start_time": "2023-08-25T11:26:20.634Z"
   },
   {
    "duration": 21,
    "start_time": "2023-08-25T11:26:20.663Z"
   },
   {
    "duration": 524,
    "start_time": "2023-08-25T11:27:58.821Z"
   },
   {
    "duration": 10049,
    "start_time": "2023-08-25T11:27:59.347Z"
   },
   {
    "duration": 191,
    "start_time": "2023-08-25T11:28:09.398Z"
   },
   {
    "duration": 14,
    "start_time": "2023-08-25T11:28:09.591Z"
   },
   {
    "duration": 28,
    "start_time": "2023-08-25T11:28:09.607Z"
   },
   {
    "duration": 36,
    "start_time": "2023-08-25T11:28:09.637Z"
   },
   {
    "duration": 16,
    "start_time": "2023-08-25T11:28:09.676Z"
   },
   {
    "duration": 51,
    "start_time": "2023-08-25T11:28:09.694Z"
   },
   {
    "duration": 222,
    "start_time": "2023-08-25T11:31:48.562Z"
   },
   {
    "duration": 14,
    "start_time": "2023-08-25T11:31:52.196Z"
   },
   {
    "duration": 14,
    "start_time": "2023-08-25T11:32:27.807Z"
   },
   {
    "duration": 15,
    "start_time": "2023-08-25T11:32:44.577Z"
   },
   {
    "duration": 112,
    "start_time": "2023-08-25T11:33:12.749Z"
   },
   {
    "duration": 124,
    "start_time": "2023-08-25T11:33:46.423Z"
   },
   {
    "duration": 158,
    "start_time": "2023-08-25T11:34:55.935Z"
   },
   {
    "duration": 14,
    "start_time": "2023-08-25T11:35:58.949Z"
   },
   {
    "duration": 569,
    "start_time": "2023-08-25T11:36:59.932Z"
   },
   {
    "duration": 10512,
    "start_time": "2023-08-25T11:37:00.503Z"
   },
   {
    "duration": 177,
    "start_time": "2023-08-25T11:37:11.016Z"
   },
   {
    "duration": 11,
    "start_time": "2023-08-25T11:37:11.197Z"
   },
   {
    "duration": 29,
    "start_time": "2023-08-25T11:37:11.209Z"
   },
   {
    "duration": 11,
    "start_time": "2023-08-25T11:37:11.240Z"
   },
   {
    "duration": 16,
    "start_time": "2023-08-25T11:37:11.260Z"
   },
   {
    "duration": 14,
    "start_time": "2023-08-25T11:37:11.277Z"
   },
   {
    "duration": 180,
    "start_time": "2023-08-25T11:38:36.527Z"
   },
   {
    "duration": 547,
    "start_time": "2023-08-25T11:39:17.160Z"
   },
   {
    "duration": 9611,
    "start_time": "2023-08-25T11:39:17.709Z"
   },
   {
    "duration": 171,
    "start_time": "2023-08-25T11:39:27.322Z"
   },
   {
    "duration": 11,
    "start_time": "2023-08-25T11:39:27.494Z"
   },
   {
    "duration": 29,
    "start_time": "2023-08-25T11:39:27.508Z"
   },
   {
    "duration": 22,
    "start_time": "2023-08-25T11:39:27.538Z"
   },
   {
    "duration": 17,
    "start_time": "2023-08-25T11:39:27.562Z"
   },
   {
    "duration": 15,
    "start_time": "2023-08-25T11:39:27.581Z"
   }
  ],
  "kernelspec": {
   "display_name": "Python 3 (ipykernel)",
   "language": "python",
   "name": "python3"
  },
  "language_info": {
   "codemirror_mode": {
    "name": "ipython",
    "version": 3
   },
   "file_extension": ".py",
   "mimetype": "text/x-python",
   "name": "python",
   "nbconvert_exporter": "python",
   "pygments_lexer": "ipython3",
   "version": "3.10.9"
  },
  "toc": {
   "base_numbering": 1,
   "nav_menu": {},
   "number_sections": true,
   "sideBar": true,
   "skip_h1_title": true,
   "title_cell": "Table of Contents",
   "title_sidebar": "Contents",
   "toc_cell": false,
   "toc_position": {
    "height": "calc(100% - 180px)",
    "left": "10px",
    "top": "150px",
    "width": "289.398px"
   },
   "toc_section_display": true,
   "toc_window_display": true
  }
 },
 "nbformat": 4,
 "nbformat_minor": 2
}
